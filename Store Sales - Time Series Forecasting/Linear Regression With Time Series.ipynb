{
 "cells": [
  {
   "cell_type": "code",
   "execution_count": null,
   "id": "412f7a95-e018-44b7-8847-5c17f1f3e923",
   "metadata": {},
   "outputs": [],
   "source": [
    "import numpy as np\n",
    "import pandas as pd\n",
    "import matplotlib.pyplot as plt\n",
    "import seaborn as sns"
   ]
  },
  {
   "cell_type": "code",
   "execution_count": null,
   "id": "04d1a787-73f5-420e-b9e0-ab3a79fffeb5",
   "metadata": {},
   "outputs": [],
   "source": [
    "#Time Series - данные, записанные с течением времени\n",
    "#Для Time Series есть 2 уникальных типа признаков: Time-step и Lag признаки\n",
    "#Time-step признаки строятся непосредственно из поля даты объекта (например кол-во \n",
    "#прошедших временных промежутков от начального времени). Они позволяют выводить зависимость целевой функции от времени\n",
    "#Lag признаки строятся на основании значений других признаков в прошлом. Они позволяют выводить зависимость \n",
    "#целевой функции от прошлых по времени наблюдений\n",
    "#Для предсказания текущих во времени процессов будем использовать Линейную регресиию."
   ]
  },
  {
   "cell_type": "code",
   "execution_count": null,
   "id": "d2432e55-2bfc-42e7-9cd8-3b1f03cbd37d",
   "metadata": {},
   "outputs": [],
   "source": [
    "#Trend - отображает устойчивые, долгосрочные изменения в среднем в Time Series."
   ]
  }
 ],
 "metadata": {
  "kernelspec": {
   "display_name": "Python 3 (ipykernel)",
   "language": "python",
   "name": "python3"
  },
  "language_info": {
   "codemirror_mode": {
    "name": "ipython",
    "version": 3
   },
   "file_extension": ".py",
   "mimetype": "text/x-python",
   "name": "python",
   "nbconvert_exporter": "python",
   "pygments_lexer": "ipython3",
   "version": "3.12.6"
  }
 },
 "nbformat": 4,
 "nbformat_minor": 5
}
