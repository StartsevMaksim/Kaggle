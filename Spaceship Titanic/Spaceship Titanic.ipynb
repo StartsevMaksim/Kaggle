{
 "cells": [
  {
   "cell_type": "code",
   "execution_count": 1,
   "id": "c9cdf59c-ee04-4beb-8c0d-0ce0b0082cd9",
   "metadata": {},
   "outputs": [],
   "source": [
    "import numpy as np\n",
    "import pandas as pd\n",
    "import matplotlib.pyplot as plt\n",
    "import seaborn as sns\n",
    "from sklearn.pipeline import Pipeline\n",
    "from sklearn.preprocessing import StandardScaler\n",
    "from sklearn.model_selection import train_test_split, GridSearchCV\n",
    "from sklearn.metrics import classification_report, ConfusionMatrixDisplay\n",
    "from sklearn.svm import SVC"
   ]
  },
  {
   "cell_type": "code",
   "execution_count": 57,
   "id": "848a5632-752d-4394-9203-74402c7437ce",
   "metadata": {},
   "outputs": [],
   "source": [
    "#Функция для поиска Единственного наиболее частого значения. Если таких нет или несколько, то выводит np.nan\n",
    "def aggGroupedVals(vals):\n",
    "    most_freq_cabin = pd.Series.mode(vals)\n",
    "    if most_freq_cabin.shape[0] != 1:\n",
    "        return np.nan\n",
    "    else:\n",
    "        return most_freq_cabin[0]\n",
    "\n",
    "#Обучение модели\n",
    "def train_model(model, df):\n",
    "    X = df.drop('Transported', axis=1)\n",
    "    y = df['Transported']\n",
    "    X_train, X_test, y_train, y_test = train_test_split(X, y, test_size=0.2, random_state=101)\n",
    "    model.fit(X_train, y_train)\n",
    "    y_predict = model.predict(X_test)\n",
    "    print('Параметры модели')\n",
    "    for param_name, param_val in grid_model.best_estimator_['model'].get_params().items():\n",
    "        print(f'{param_name} = {param_val}')\n",
    "    print(classification_report(y_test, y_predict))\n",
    "    ConfusionMatrixDisplay.from_estimator(model, X_test, y_test)"
   ]
  },
  {
   "cell_type": "code",
   "execution_count": 3,
   "id": "0dfb29cf-2bca-4443-8057-d10169f67682",
   "metadata": {},
   "outputs": [],
   "source": [
    "#Загрузка данных\n",
    "df_train_origin = pd.read_csv('train.csv', index_col='PassengerId')\n",
    "df_test_origin = pd.read_csv('test.csv', index_col='PassengerId')\n",
    "df_full = pd.concat([df_train_origin, df_test_origin], axis=0)"
   ]
  },
  {
   "cell_type": "code",
   "execution_count": 4,
   "id": "d362037b-1bd6-48c2-b1dc-a32bca0cb999",
   "metadata": {},
   "outputs": [
    {
     "name": "stdout",
     "output_type": "stream",
     "text": [
      "<class 'pandas.core.frame.DataFrame'>\n",
      "Index: 12970 entries, 0001_01 to 9277_01\n",
      "Data columns (total 13 columns):\n",
      " #   Column        Non-Null Count  Dtype  \n",
      "---  ------        --------------  -----  \n",
      " 0   HomePlanet    12682 non-null  object \n",
      " 1   CryoSleep     12660 non-null  object \n",
      " 2   Cabin         12671 non-null  object \n",
      " 3   Destination   12696 non-null  object \n",
      " 4   Age           12700 non-null  float64\n",
      " 5   VIP           12674 non-null  object \n",
      " 6   RoomService   12707 non-null  float64\n",
      " 7   FoodCourt     12681 non-null  float64\n",
      " 8   ShoppingMall  12664 non-null  float64\n",
      " 9   Spa           12686 non-null  float64\n",
      " 10  VRDeck        12702 non-null  float64\n",
      " 11  Name          12676 non-null  object \n",
      " 12  Transported   8693 non-null   object \n",
      "dtypes: float64(6), object(7)\n",
      "memory usage: 1.4+ MB\n"
     ]
    }
   ],
   "source": [
    "df_full.info()"
   ]
  },
  {
   "cell_type": "code",
   "execution_count": 5,
   "id": "d4068acf-6bb0-493f-8a5d-c40fd8c553af",
   "metadata": {},
   "outputs": [],
   "source": [
    "#Работаем с пропусками"
   ]
  },
  {
   "cell_type": "code",
   "execution_count": 6,
   "id": "f194bf22-4d47-4505-bc8c-8ecf1096f336",
   "metadata": {},
   "outputs": [],
   "source": [
    "#Cabin"
   ]
  },
  {
   "cell_type": "code",
   "execution_count": 7,
   "id": "0b8571da-ff51-4e72-9aa4-35b435580e00",
   "metadata": {},
   "outputs": [],
   "source": [
    "#На основании индекса PassengerID создадим 2 признака: PassengerGroup(группа пассажира) и\n",
    "#PassengerNo(номер пассажира в группе)\n",
    "pass_group_no = np.array([pairs for pairs in df_full.index.str.split('_').values])\n",
    "df_full['PassengerGroup'] = pass_group_no[:, 0].astype(np.int16)\n",
    "df_full['PassengerNo'] = pass_group_no[:, 1].astype(np.int16)\n",
    "#На основании признака Name создадим признак Surname(только фамилия пассажира)\n",
    "pass_surname = df_full['Name'].str.split(' ').values\n",
    "df_full['Surname'] = [np.nan if full_name is np.nan else full_name[-1] for full_name in pass_surname]"
   ]
  },
  {
   "cell_type": "code",
   "execution_count": 8,
   "id": "2549c389-b13e-49fd-9f24-9a3fb1108e32",
   "metadata": {},
   "outputs": [],
   "source": [
    "#Предполагаем, что люди из одной PassengerGroup и одинаковым Surname будут жить в одной Cabin\n",
    "pass_pairs_cabin = df_full.groupby(by=['PassengerGroup','Surname'])['Cabin'].agg(aggGroupedVals)\n",
    "pass_pairs_cabin.name = 'CabinFillNA'\n",
    "pass_pairs_cabin = df_full.merge(pass_pairs_cabin, \n",
    "                                 how='left', \n",
    "                                 left_on=['PassengerGroup','Surname'], \n",
    "                                 right_index=True)['CabinFillNA']\n",
    "df_full['Cabin'] = df_full['Cabin'].fillna(pass_pairs_cabin)"
   ]
  },
  {
   "cell_type": "code",
   "execution_count": 9,
   "id": "452e68eb-eb97-4a58-b8d5-f8c284a2e8c3",
   "metadata": {},
   "outputs": [],
   "source": [
    "#Далее для удобства создадим на основании Cabin 3 признака: CabinDeck(палуба), CabinNo(номер каюты) и \n",
    "#CabinSide(P-левый борт, S-правый борт)\n",
    "pass_cabin_info = df_full['Cabin'].str.split('/').values\n",
    "df_full['CabinDeck'] = [np.nan if info is np.nan else info[0] for info in pass_cabin_info]\n",
    "df_full['CabinNo'] = [np.nan if info is np.nan else info[1] for info in pass_cabin_info]\n",
    "df_full['CabinSide'] = [np.nan if info is np.nan else info[2] for info in pass_cabin_info]\n",
    "#Удалим Cabin\n",
    "df_full = df_full.drop('Cabin', axis=1)"
   ]
  },
  {
   "cell_type": "code",
   "execution_count": 10,
   "id": "a337ca52-7300-4fd3-9377-a597f2a86074",
   "metadata": {
    "scrolled": true
   },
   "outputs": [
    {
     "name": "stdout",
     "output_type": "stream",
     "text": [
      "Ситуация по признаку HomePlanet\n",
      "HomePlanet  CabinDeck\n",
      "Earth       G            3733\n",
      "            F            2436\n",
      "            E             586\n",
      "Europa      B            1142\n",
      "            C            1100\n",
      "            A             353\n",
      "            D             299\n",
      "            E             198\n",
      "            T              10\n",
      "Mars        F            1726\n",
      "            E             513\n",
      "            D             412\n",
      "Name: count, dtype: int64\n",
      "Ситуация по признаку CryoSleep\n",
      "CryoSleep  CabinDeck\n",
      "False      F            3299\n",
      "           G            1694\n",
      "           E            1044\n",
      "           C             621\n",
      "           D             544\n",
      "           B             516\n",
      "           A             245\n",
      "           T              10\n",
      "True       G            2029\n",
      "           F             861\n",
      "           B             617\n",
      "           C             471\n",
      "           E             257\n",
      "           D             171\n",
      "           A             106\n",
      "Name: count, dtype: int64\n",
      "Ситуация по признаку Destination\n",
      "Destination    CabinDeck\n",
      "55 Cancri e    F             574\n",
      "               G             540\n",
      "               B             517\n",
      "               C             472\n",
      "               D             177\n",
      "               E             167\n",
      "               A             163\n",
      "               T               2\n",
      "PSO J318.5-22  G             695\n",
      "               F             363\n",
      "               E              59\n",
      "               C              21\n",
      "               D              17\n",
      "               B               5\n",
      "               A               2\n",
      "TRAPPIST-1e    F            3229\n",
      "               G            2504\n",
      "               E            1071\n",
      "               B             615\n",
      "               C             607\n",
      "               D             520\n",
      "               A             191\n",
      "               T               9\n",
      "Name: count, dtype: int64\n",
      "Ситуация по признаку VIP\n",
      "VIP    CabinDeck\n",
      "False  F            4124\n",
      "       G            3726\n",
      "       E            1283\n",
      "       B            1076\n",
      "       C            1034\n",
      "       D             674\n",
      "       A             305\n",
      "       T              10\n",
      "True   B              59\n",
      "       C              58\n",
      "       A              46\n",
      "       D              42\n",
      "       F              42\n",
      "       E              26\n",
      "Name: count, dtype: int64\n"
     ]
    }
   ],
   "source": [
    "#Исследуем влияение HomePlanet, CryoSleep, Destination, VIP на CabinDeck, CabinSide\n",
    "for grouped_col in ['HomePlanet','CryoSleep','Destination','VIP']:\n",
    "    print(f'Ситуация по признаку {grouped_col}')\n",
    "    print(df_full.groupby(by=grouped_col)['CabinDeck'].value_counts())\n",
    "#Пассажиры достаточно равномерно распределены по палубам и бортам в зависимости от 'CryoSleep', 'Destination', 'VIP'"
   ]
  },
  {
   "cell_type": "code",
   "execution_count": 11,
   "id": "d7862804-1d96-4252-97af-85ed9384210d",
   "metadata": {},
   "outputs": [],
   "source": [
    "#Возьмем самые частые палубы в зависимости от HomePlanet\n",
    "pass_home_cabin = df_full.groupby(by='HomePlanet')['CabinDeck'].agg(aggGroupedVals)\n",
    "pass_home_cabin.name = 'CabinFillNA'\n",
    "pass_home_cabin = df_full.merge(pass_home_cabin, \n",
    "                                how='left', \n",
    "                                left_on='HomePlanet', \n",
    "                                right_index=True)['CabinFillNA']\n",
    "df_full['CabinDeck'] = df_full['CabinDeck'].fillna(pass_home_cabin)"
   ]
  },
  {
   "cell_type": "code",
   "execution_count": 12,
   "id": "0efdd448-0ab7-4355-854d-c7282c871929",
   "metadata": {},
   "outputs": [],
   "source": [
    "#Остальное заполним самой частой палубой по всей выборке\n",
    "df_full['CabinDeck'] = df_full['CabinDeck'].fillna('F')"
   ]
  },
  {
   "cell_type": "code",
   "execution_count": 13,
   "id": "73d7ccf4-9aeb-4fb0-a128-abe1b727c3a1",
   "metadata": {},
   "outputs": [],
   "source": [
    "#Видим, что на левом борту людей переносило меньше\n",
    "#Удалим CabinNo, а NaN значения для СabinSide заменим на Unknown\n",
    "df_full = df_full.drop('CabinNo', axis=1)\n",
    "df_full['CabinSide'] = df_full['CabinSide'].fillna('Unknown')"
   ]
  },
  {
   "cell_type": "code",
   "execution_count": 14,
   "id": "d333f8e6-e67b-4d37-acb0-385da97e388a",
   "metadata": {},
   "outputs": [
    {
     "data": {
      "text/plain": [
       "Transported  CabinSide\n",
       "False        P            2325\n",
       "             S            1925\n",
       "             Unknown        65\n",
       "True         S            2411\n",
       "             P            1918\n",
       "             Unknown        49\n",
       "Name: count, dtype: int64"
      ]
     },
     "execution_count": 14,
     "metadata": {},
     "output_type": "execute_result"
    }
   ],
   "source": [
    "df_full.groupby(by='Transported')['CabinSide'].value_counts()"
   ]
  },
  {
   "cell_type": "code",
   "execution_count": 15,
   "id": "99279299-4aa3-4d09-9dfa-6a400c51ad14",
   "metadata": {},
   "outputs": [],
   "source": [
    "#HomePlanet"
   ]
  },
  {
   "cell_type": "code",
   "execution_count": 16,
   "id": "465b5848-b70e-4000-b472-7211e676c74a",
   "metadata": {},
   "outputs": [
    {
     "data": {
      "text/plain": [
       "VIP    HomePlanet\n",
       "False  Earth         6706\n",
       "       Europa        2883\n",
       "       Mars          2533\n",
       "True   Europa         177\n",
       "       Mars            90\n",
       "Name: count, dtype: int64"
      ]
     },
     "execution_count": 16,
     "metadata": {},
     "output_type": "execute_result"
    }
   ],
   "source": [
    "#Зависимость HomePlanet от VIP\n",
    "df_full.groupby(by='VIP')['HomePlanet'].value_counts()"
   ]
  },
  {
   "cell_type": "code",
   "execution_count": 17,
   "id": "e9a947fd-be81-4bc3-b75f-bae5f0541e1a",
   "metadata": {},
   "outputs": [
    {
     "data": {
      "text/plain": [
       "CabinDeck  HomePlanet\n",
       "A          Europa         353\n",
       "B          Europa        1173\n",
       "C          Europa        1100\n",
       "D          Mars           412\n",
       "           Europa         299\n",
       "E          Earth          586\n",
       "           Mars           513\n",
       "           Europa         198\n",
       "F          Earth         2436\n",
       "           Mars          1759\n",
       "G          Earth         3843\n",
       "T          Europa          10\n",
       "Name: count, dtype: int64"
      ]
     },
     "execution_count": 17,
     "metadata": {},
     "output_type": "execute_result"
    }
   ],
   "source": [
    "#Зависимость HomePlanet от CabinDeck\n",
    "df_full.groupby(by='CabinDeck')['HomePlanet'].value_counts()"
   ]
  },
  {
   "cell_type": "code",
   "execution_count": 18,
   "id": "618223c8-50ef-44ce-9267-f9bb7663c620",
   "metadata": {},
   "outputs": [],
   "source": [
    "#Для каждой PassengerGroup найдем самую распространенную HomePlanet\n",
    "most_freq_home_for_pass_group = df_full.groupby(by='PassengerGroup')['HomePlanet'].agg(pd.Series.mode)\n",
    "most_freq_home_for_pass_group = most_freq_home_for_pass_group.where(most_freq_home_for_pass_group.str.len() > 0)\n",
    "most_freq_home_for_pass_group.name = 'HomeFillPassGroup'\n",
    "most_freq_home_for_pass_group = df_full.merge(most_freq_home_for_pass_group, \n",
    "                                              how='left', \n",
    "                                              left_on='PassengerGroup', \n",
    "                                              right_index=True)['HomeFillPassGroup']\n",
    "df_full['HomePlanet'] = df_full['HomePlanet'].fillna(most_freq_home_for_pass_group)"
   ]
  },
  {
   "cell_type": "code",
   "execution_count": 19,
   "id": "1d62fac7-9339-4e9c-b6ba-94b405d3fa5f",
   "metadata": {},
   "outputs": [],
   "source": [
    "#Для каждой CabinDeck найдем самую распространенную HomePlanet\n",
    "most_freq_home_for_deck = df_full.groupby(by='CabinDeck')['HomePlanet'].agg(pd.Series.mode)\n",
    "most_freq_home_for_deck.name = 'HomeFillDeck'\n",
    "most_freq_home_for_deck = df_full.merge(most_freq_home_for_deck, \n",
    "                                        how='left', \n",
    "                                        left_on='CabinDeck', \n",
    "                                        right_index=True)['HomeFillDeck']\n",
    "df_full['HomePlanet'] = df_full['HomePlanet'].fillna(most_freq_home_for_deck)"
   ]
  },
  {
   "cell_type": "code",
   "execution_count": 20,
   "id": "cf0cbc7d-86f6-47bd-9892-8c9367f8d7eb",
   "metadata": {},
   "outputs": [],
   "source": [
    "#ЗАМЕЧАНИЕ! С Earth нет VIP пассажиров. Заменим на Mars - единственная планета, которая подходит\n",
    "df_full.loc[df_full['VIP'] & (df_full['HomePlanet'] == 'Earth'), 'HomePlanet'] = 'Mars'"
   ]
  },
  {
   "cell_type": "code",
   "execution_count": 21,
   "id": "18035b9a-e436-4aa0-95c1-c0f33d80528b",
   "metadata": {},
   "outputs": [],
   "source": [
    "#Остальные 5 пропусков заменим на Earth, т.к. самая распространенная HomePlanet(по VIP подходит)\n",
    "df_full['HomePlanet'] = df_full['HomePlanet'].fillna('Earth')"
   ]
  },
  {
   "cell_type": "code",
   "execution_count": 22,
   "id": "6ba1b5bd-f6db-460c-842c-b6ab258a3117",
   "metadata": {},
   "outputs": [],
   "source": [
    "#CryoSleep"
   ]
  },
  {
   "cell_type": "code",
   "execution_count": 23,
   "id": "08e1e847-2ae3-4968-87d1-dd36d5e66d7e",
   "metadata": {
    "scrolled": true
   },
   "outputs": [
    {
     "name": "stdout",
     "output_type": "stream",
     "text": [
      "Ситуация по признаку HomePlanet\n",
      "HomePlanet  CryoSleep\n",
      "Earth       False        4756\n",
      "            True         2124\n",
      "Europa      False        1705\n",
      "            True         1401\n",
      "Mars        False        1618\n",
      "            True         1056\n",
      "Name: count, dtype: int64\n",
      "Ситуация по признаку Destination\n",
      "Destination    CryoSleep\n",
      "55 Cancri e    False        1475\n",
      "               True         1103\n",
      "PSO J318.5-22  False         583\n",
      "               True          575\n",
      "TRAPPIST-1e    False        5834\n",
      "               True         2823\n",
      "Name: count, dtype: int64\n",
      "Ситуация по признаку VIP\n",
      "VIP    CryoSleep\n",
      "False  False        7657\n",
      "       True         4449\n",
      "True   False         239\n",
      "       True           28\n",
      "Name: count, dtype: int64\n",
      "Ситуация по признаку CabinDeck\n",
      "CabinDeck  CryoSleep\n",
      "A          False         245\n",
      "           True          106\n",
      "B          True          632\n",
      "           False         530\n",
      "C          False         621\n",
      "           True          471\n",
      "D          False         544\n",
      "           True          171\n",
      "E          False        1044\n",
      "           True          257\n",
      "F          False        3323\n",
      "           True          875\n",
      "G          True         2069\n",
      "           False        1762\n",
      "T          False          10\n",
      "Name: count, dtype: int64\n"
     ]
    }
   ],
   "source": [
    "#Исследуем влияение HomePlanet, Destination, VIP, CabinDeck на CryoSleep\n",
    "for grouped_col in ['HomePlanet','Destination','VIP','CabinDeck']:\n",
    "    print(f'Ситуация по признаку {grouped_col}')\n",
    "    print(df_full.groupby(by=grouped_col)['CryoSleep'].value_counts())"
   ]
  },
  {
   "cell_type": "code",
   "execution_count": 24,
   "id": "c27708e8-e8f1-40a0-9e01-01f31397e233",
   "metadata": {},
   "outputs": [],
   "source": [
    "#Можно в зависимости от палубы находить CryoSleep\n",
    "pass_cabin_sleep = df_full.groupby(by='CabinDeck')['CryoSleep'].agg(aggGroupedVals)\n",
    "pass_cabin_sleep.name = 'CryoSleepFillNA'\n",
    "pass_cabin_sleep = df_full.merge(pass_cabin_sleep, \n",
    "                                 how='left', \n",
    "                                 left_on='CabinDeck', \n",
    "                                 right_index=True)['CryoSleepFillNA'].astype(np.float16)\n",
    "df_full['CryoSleep'] = df_full['CryoSleep'].fillna(pass_cabin_sleep)"
   ]
  },
  {
   "cell_type": "code",
   "execution_count": 25,
   "id": "6316724b-3f0b-4053-b2cf-4781b6892e46",
   "metadata": {},
   "outputs": [],
   "source": [
    "#Destination"
   ]
  },
  {
   "cell_type": "code",
   "execution_count": 26,
   "id": "842a9345-3eed-4f14-8f79-7e30cedd0762",
   "metadata": {
    "scrolled": true
   },
   "outputs": [
    {
     "name": "stdout",
     "output_type": "stream",
     "text": [
      "Ситуация по признаку HomePlanet\n",
      "HomePlanet  Destination  \n",
      "Earth       TRAPPIST-1e      4804\n",
      "            PSO J318.5-22    1087\n",
      "            55 Cancri e      1006\n",
      "Europa      TRAPPIST-1e      1765\n",
      "            55 Cancri e      1336\n",
      "            PSO J318.5-22      29\n",
      "Mars        TRAPPIST-1e      2302\n",
      "            55 Cancri e       299\n",
      "            PSO J318.5-22      68\n",
      "Name: count, dtype: int64\n",
      "Ситуация по признаку CryoSleep\n",
      "CryoSleep  Destination  \n",
      "False      TRAPPIST-1e      5965\n",
      "           55 Cancri e      1512\n",
      "           PSO J318.5-22     599\n",
      "True       TRAPPIST-1e      2906\n",
      "           55 Cancri e      1129\n",
      "           PSO J318.5-22     585\n",
      "Name: count, dtype: int64\n",
      "Ситуация по признаку VIP\n",
      "VIP    Destination  \n",
      "False  TRAPPIST-1e      8510\n",
      "       55 Cancri e      2491\n",
      "       PSO J318.5-22    1136\n",
      "True   TRAPPIST-1e       163\n",
      "       55 Cancri e        85\n",
      "       PSO J318.5-22      22\n",
      "Name: count, dtype: int64\n",
      "Ситуация по признаку CabinDeck\n",
      "CabinDeck  Destination  \n",
      "A          TRAPPIST-1e       191\n",
      "           55 Cancri e       163\n",
      "           PSO J318.5-22       2\n",
      "B          TRAPPIST-1e       632\n",
      "           55 Cancri e       530\n",
      "           PSO J318.5-22       6\n",
      "C          TRAPPIST-1e       607\n",
      "           55 Cancri e       472\n",
      "           PSO J318.5-22      21\n",
      "D          TRAPPIST-1e       520\n",
      "           55 Cancri e       177\n",
      "           PSO J318.5-22      17\n",
      "E          TRAPPIST-1e      1071\n",
      "           55 Cancri e       167\n",
      "           PSO J318.5-22      59\n",
      "F          TRAPPIST-1e      3260\n",
      "           55 Cancri e       577\n",
      "           PSO J318.5-22     365\n",
      "G          TRAPPIST-1e      2581\n",
      "           PSO J318.5-22     714\n",
      "           55 Cancri e       553\n",
      "T          TRAPPIST-1e         9\n",
      "           55 Cancri e         2\n",
      "Name: count, dtype: int64\n"
     ]
    }
   ],
   "source": [
    "#Исследуем влияение HomePlanet, CryoSleep, VIP, CabinDeck на Destination\n",
    "for grouped_col in ['HomePlanet','CryoSleep','VIP','CabinDeck']:\n",
    "    print(f'Ситуация по признаку {grouped_col}')\n",
    "    print(df_full.groupby(by=grouped_col)['Destination'].value_counts())"
   ]
  },
  {
   "cell_type": "code",
   "execution_count": 27,
   "id": "29b523dc-35f7-49e1-9a5f-bea2739696c3",
   "metadata": {},
   "outputs": [],
   "source": [
    "#Большинство летит на TRAPPIST-1e\n",
    "df_full['Destination'] = df_full['Destination'].fillna('TRAPPIST-1e')"
   ]
  },
  {
   "cell_type": "code",
   "execution_count": 28,
   "id": "7348ece3-9824-4605-a99b-d21a6c7a1d49",
   "metadata": {},
   "outputs": [],
   "source": [
    "#RoomService, FoodCourt, ShoppingMall, Spa, VRDeck"
   ]
  },
  {
   "cell_type": "code",
   "execution_count": 29,
   "id": "fff3e6fa-4ac8-43f2-85da-6c35b18c9a83",
   "metadata": {},
   "outputs": [],
   "source": [
    "#Заменяем нулями\n",
    "df_full['RoomService'] = df_full['RoomService'].fillna(0)\n",
    "df_full['FoodCourt'] = df_full['FoodCourt'].fillna(0)\n",
    "df_full['ShoppingMall'] = df_full['ShoppingMall'].fillna(0)\n",
    "df_full['Spa'] = df_full['Spa'].fillna(0)\n",
    "df_full['VRDeck'] = df_full['VRDeck'].fillna(0)"
   ]
  },
  {
   "cell_type": "code",
   "execution_count": 30,
   "id": "ed9313f4-a356-4371-8530-0f8a5e3c7374",
   "metadata": {},
   "outputs": [],
   "source": [
    "#Создадим признак со всеми затратами на развлечение\n",
    "df_full['AllSpending'] = np.sum(df_full[['RoomService','FoodCourt','ShoppingMall','Spa','VRDeck']], axis=1)"
   ]
  },
  {
   "cell_type": "code",
   "execution_count": 31,
   "id": "d87fcc09-10c8-4301-8386-a04168f609c8",
   "metadata": {},
   "outputs": [],
   "source": [
    "#VIP"
   ]
  },
  {
   "cell_type": "code",
   "execution_count": 32,
   "id": "8ab28941-4953-4a1e-857b-cc9899e7d5a0",
   "metadata": {},
   "outputs": [
    {
     "data": {
      "text/plain": [
       "<Axes: xlabel='AllSpending', ylabel='VIP'>"
      ]
     },
     "execution_count": 32,
     "metadata": {},
     "output_type": "execute_result"
    },
    {
     "data": {
      "image/png": "[encoded data removed]",
      "text/plain": [
       "<Figure size 640x480 with 1 Axes>"
      ]
     },
     "metadata": {},
     "output_type": "display_data"
    }
   ],
   "source": [
    "#Основная масса VIP пассажиров не тратит много денег на доп. развлечения, однако многие и без VIP не тратят\n",
    "sns.scatterplot(data=df_full[df_full['AllSpending']>0], x='AllSpending', y='VIP')"
   ]
  },
  {
   "cell_type": "code",
   "execution_count": 33,
   "id": "b1506b23-9c0f-4fa0-826f-3f71d46326a3",
   "metadata": {},
   "outputs": [],
   "source": [
    "#Заменим Nan на False\n",
    "df_full['VIP'] = df_full['VIP'].fillna(0)"
   ]
  },
  {
   "cell_type": "code",
   "execution_count": 34,
   "id": "cc3be656-0500-4633-b21a-3a09853cef21",
   "metadata": {},
   "outputs": [],
   "source": [
    "#Age"
   ]
  },
  {
   "cell_type": "code",
   "execution_count": 35,
   "id": "220330c2-139a-436f-8235-cda260636056",
   "metadata": {},
   "outputs": [
    {
     "data": {
      "text/plain": [
       "CabinDeck\n",
       "A    35.484330\n",
       "B    33.607204\n",
       "C    34.690064\n",
       "D    33.446779\n",
       "E    30.214559\n",
       "F    28.417971\n",
       "G    24.007035\n",
       "T    35.545455\n",
       "Name: Age, dtype: float64"
      ]
     },
     "execution_count": 35,
     "metadata": {},
     "output_type": "execute_result"
    }
   ],
   "source": [
    "df_full.groupby(by='CabinDeck')['Age'].mean()"
   ]
  },
  {
   "cell_type": "code",
   "execution_count": 36,
   "id": "981c6630-2ac4-4cbf-bbb8-7be4b559aff9",
   "metadata": {},
   "outputs": [],
   "source": [
    "#Можно в зависимости от палубы находить средний возраст\n",
    "pass_cabin_age = df_full.groupby(by='CabinDeck')['Age'].mean()\n",
    "pass_cabin_age.name = 'AgeFillNA'\n",
    "pass_cabin_age = df_full.merge(pass_cabin_age, \n",
    "                               how='left', \n",
    "                               left_on='CabinDeck', \n",
    "                               right_index=True)['AgeFillNA']\n",
    "df_full['Age'] = df_full['Age'].fillna(pass_cabin_age)"
   ]
  },
  {
   "cell_type": "code",
   "execution_count": 37,
   "id": "3cf2b061-377b-49f3-bdf2-24775646bc35",
   "metadata": {},
   "outputs": [],
   "source": [
    "#Работа с признаками"
   ]
  },
  {
   "cell_type": "code",
   "execution_count": 38,
   "id": "42307dd7-30aa-4120-a25d-41cb4f79e9ce",
   "metadata": {},
   "outputs": [
    {
     "data": {
      "image/png": "[encoded data removed]",
      "text/plain": [
       "<Figure size 1080x720 with 2 Axes>"
      ]
     },
     "metadata": {},
     "output_type": "display_data"
    }
   ],
   "source": [
    "#Оставим затраты на развлечения в раздельном виде (удалим AllSpending)\n",
    "plt.figure(figsize=(12,8),dpi=90)\n",
    "sns.heatmap(df_full[['CryoSleep','VIP','RoomService','FoodCourt','ShoppingMall',\n",
    "                     'Spa','VRDeck','AllSpending','Transported']].corr(),\n",
    "            annot=True)\n",
    "df_full = df_full.drop('AllSpending', axis=1)"
   ]
  },
  {
   "cell_type": "code",
   "execution_count": 39,
   "id": "abca0963-c6fa-4b50-819a-5f429de0de21",
   "metadata": {},
   "outputs": [
    {
     "data": {
      "image/png": "[encoded data removed]",
      "text/plain": [
       "<Figure size 2100x1200 with 1 Axes>"
      ]
     },
     "metadata": {},
     "output_type": "display_data"
    }
   ],
   "source": [
    "#В целом Перемещенные пассажиры в каждой группе составляют половину от всех пассажиров. Выделять \n",
    "#значения PassengerGroup в отдельные кластеры с преобладанием какого-либо значения Transported не имеет смысла\n",
    "#Удаляем \n",
    "plt.figure(figsize=(14,8),dpi=150)\n",
    "sns.histplot(df_full, x='PassengerGroup', bins=200, hue='Transported', multiple='stack')\n",
    "df_full = df_full.drop(['PassengerGroup','PassengerNo'], axis=1)"
   ]
  },
  {
   "cell_type": "code",
   "execution_count": 40,
   "id": "728e1ddc-4244-4a07-b598-7737c2274814",
   "metadata": {},
   "outputs": [],
   "source": [
    "#Людей с VIP статусом всего 2% от всех, можно удалить признак\n",
    "#Удаляем VIP, Name, Surname\n",
    "df_full = df_full.drop(['VIP','Name','Surname'], axis=1)"
   ]
  },
  {
   "cell_type": "code",
   "execution_count": 41,
   "id": "10484197-cc9c-4174-8cc0-9e06ecbd53d9",
   "metadata": {},
   "outputs": [],
   "source": [
    "#Приведем Transported к типу Int\n",
    "df_full['Transported'] = df_full['Transported'].astype(np.float64)"
   ]
  },
  {
   "cell_type": "code",
   "execution_count": 42,
   "id": "0c5f6ebc-1efe-4b3c-a013-53ebd40b8045",
   "metadata": {},
   "outputs": [],
   "source": [
    "#Создаем Dummy-переменные\n",
    "df_dummy = pd.get_dummies(df_full)"
   ]
  },
  {
   "cell_type": "code",
   "execution_count": 43,
   "id": "da65260b-9e49-4aa6-b125-fbf067b1531c",
   "metadata": {},
   "outputs": [],
   "source": [
    "#Из-за малого кол-ва пассажиров на палубе T можно удалить CabinDeck_T\n",
    "df_dummy['CabinDeck_T'].value_counts()\n",
    "df_dummy = df_dummy.drop('CabinDeck_T', axis=1)"
   ]
  },
  {
   "cell_type": "code",
   "execution_count": 44,
   "id": "44480214-39ee-4cef-b5e1-b7532cce95f0",
   "metadata": {},
   "outputs": [],
   "source": [
    "#Из-за малого кол-ва Unknown значения борта можно удалить CabinSide_Unknown\n",
    "df_dummy['CabinSide_Unknown'].value_counts()\n",
    "df_dummy = df_dummy.drop('CabinSide_Unknown', axis=1)"
   ]
  },
  {
   "cell_type": "code",
   "execution_count": 45,
   "id": "2d24689a-0794-4ba2-839e-592e0fb0854c",
   "metadata": {},
   "outputs": [
    {
     "name": "stdout",
     "output_type": "stream",
     "text": [
      "<class 'pandas.core.frame.DataFrame'>\n",
      "Index: 12970 entries, 0001_01 to 9277_01\n",
      "Data columns (total 24 columns):\n",
      " #   Column                     Non-Null Count  Dtype  \n",
      "---  ------                     --------------  -----  \n",
      " 0   Age                        12970 non-null  float64\n",
      " 1   RoomService                12970 non-null  float64\n",
      " 2   FoodCourt                  12970 non-null  float64\n",
      " 3   ShoppingMall               12970 non-null  float64\n",
      " 4   Spa                        12970 non-null  float64\n",
      " 5   VRDeck                     12970 non-null  float64\n",
      " 6   Transported                8693 non-null   float64\n",
      " 7   HomePlanet_Earth           12970 non-null  bool   \n",
      " 8   HomePlanet_Europa          12970 non-null  bool   \n",
      " 9   HomePlanet_Mars            12970 non-null  bool   \n",
      " 10  CryoSleep_False            12970 non-null  bool   \n",
      " 11  CryoSleep_True             12970 non-null  bool   \n",
      " 12  Destination_55 Cancri e    12970 non-null  bool   \n",
      " 13  Destination_PSO J318.5-22  12970 non-null  bool   \n",
      " 14  Destination_TRAPPIST-1e    12970 non-null  bool   \n",
      " 15  CabinDeck_A                12970 non-null  bool   \n",
      " 16  CabinDeck_B                12970 non-null  bool   \n",
      " 17  CabinDeck_C                12970 non-null  bool   \n",
      " 18  CabinDeck_D                12970 non-null  bool   \n",
      " 19  CabinDeck_E                12970 non-null  bool   \n",
      " 20  CabinDeck_F                12970 non-null  bool   \n",
      " 21  CabinDeck_G                12970 non-null  bool   \n",
      " 22  CabinSide_P                12970 non-null  bool   \n",
      " 23  CabinSide_S                12970 non-null  bool   \n",
      "dtypes: bool(17), float64(7)\n",
      "memory usage: 1.5+ MB\n"
     ]
    }
   ],
   "source": [
    "df_dummy.info()"
   ]
  },
  {
   "cell_type": "code",
   "execution_count": 46,
   "id": "c1c505b7-0647-4be8-9207-7cde05f0aa43",
   "metadata": {},
   "outputs": [],
   "source": [
    "#Обучение"
   ]
  },
  {
   "cell_type": "code",
   "execution_count": 47,
   "id": "0c9ea41b-1397-4afc-9df2-4aecb414dfc5",
   "metadata": {},
   "outputs": [],
   "source": [
    "#Разделение на Training и Resulting\n",
    "df_training = df_dummy.dropna().astype({'Transported': bool})\n",
    "df_resulting = df_dummy[df_dummy['Transported'].isna()].drop('Transported', axis=1)"
   ]
  },
  {
   "cell_type": "code",
   "execution_count": 48,
   "id": "83ad964d-0e5d-499f-a76a-7442baa6f6b9",
   "metadata": {},
   "outputs": [],
   "source": [
    "#SVC\n",
    "scaler = StandardScaler()\n",
    "elNet = SVC()\n",
    "pipe_model = Pipeline([('scaler', scaler), ('model', elNet)])\n",
    "grid_params = {'model__C': [0.1,1,10,20,50]}\n",
    "grid_model = GridSearchCV(pipe_model, grid_params, scoring='accuracy', cv=5, verbose=2)"
   ]
  },
  {
   "cell_type": "code",
   "execution_count": 58,
   "id": "a576ad7a-2746-4990-a64c-bffff22898cf",
   "metadata": {
    "scrolled": true
   },
   "outputs": [
    {
     "name": "stdout",
     "output_type": "stream",
     "text": [
      "Fitting 5 folds for each of 5 candidates, totalling 25 fits\n",
      "[CV] END .......................................model__C=0.1; total time=   1.1s\n",
      "[CV] END .......................................model__C=0.1; total time=   1.1s\n",
      "[CV] END .......................................model__C=0.1; total time=   1.1s\n",
      "[CV] END .......................................model__C=0.1; total time=   1.1s\n",
      "[CV] END .......................................model__C=0.1; total time=   1.1s\n",
      "[CV] END .........................................model__C=1; total time=   1.1s\n",
      "[CV] END .........................................model__C=1; total time=   1.0s\n",
      "[CV] END .........................................model__C=1; total time=   1.0s\n",
      "[CV] END .........................................model__C=1; total time=   1.0s\n",
      "[CV] END .........................................model__C=1; total time=   1.1s\n",
      "[CV] END ........................................model__C=10; total time=   1.2s\n",
      "[CV] END ........................................model__C=10; total time=   1.4s\n",
      "[CV] END ........................................model__C=10; total time=   1.3s\n",
      "[CV] END ........................................model__C=10; total time=   1.5s\n",
      "[CV] END ........................................model__C=10; total time=   1.4s\n",
      "[CV] END ........................................model__C=20; total time=   1.5s\n",
      "[CV] END ........................................model__C=20; total time=   1.4s\n",
      "[CV] END ........................................model__C=20; total time=   1.2s\n",
      "[CV] END ........................................model__C=20; total time=   1.1s\n",
      "[CV] END ........................................model__C=20; total time=   1.1s\n",
      "[CV] END ........................................model__C=50; total time=   1.4s\n",
      "[CV] END ........................................model__C=50; total time=   1.5s\n",
      "[CV] END ........................................model__C=50; total time=   1.6s\n",
      "[CV] END ........................................model__C=50; total time=   1.4s\n",
      "[CV] END ........................................model__C=50; total time=   1.6s\n",
      "Параметры модели\n",
      "C = 1\n",
      "break_ties = False\n",
      "cache_size = 200\n",
      "class_weight = None\n",
      "coef0 = 0.0\n",
      "decision_function_shape = ovr\n",
      "degree = 3\n",
      "gamma = scale\n",
      "kernel = rbf\n",
      "max_iter = -1\n",
      "probability = False\n",
      "random_state = None\n",
      "shrinking = True\n",
      "tol = 0.001\n",
      "verbose = False\n",
      "              precision    recall  f1-score   support\n",
      "\n",
      "       False       0.82      0.78      0.80       877\n",
      "        True       0.79      0.82      0.81       862\n",
      "\n",
      "    accuracy                           0.80      1739\n",
      "   macro avg       0.81      0.80      0.80      1739\n",
      "weighted avg       0.81      0.80      0.80      1739\n",
      "\n"
     ]
    },
    {
     "data": {
      "image/png": "[encoded data removed]",
      "text/plain": [
       "<Figure size 640x480 with 2 Axes>"
      ]
     },
     "metadata": {},
     "output_type": "display_data"
    }
   ],
   "source": [
    "train_model(grid_model, df_training)"
   ]
  },
  {
   "cell_type": "code",
   "execution_count": null,
   "id": "3c12676d-8981-4c3c-bc8f-fa645fd54965",
   "metadata": {},
   "outputs": [],
   "source": []
  }
 ],
 "metadata": {
  "kernelspec": {
   "display_name": "Python 3 (ipykernel)",
   "language": "python",
   "name": "python3"
  },
  "language_info": {
   "codemirror_mode": {
    "name": "ipython",
    "version": 3
   },
   "file_extension": ".py",
   "mimetype": "text/x-python",
   "name": "python",
   "nbconvert_exporter": "python",
   "pygments_lexer": "ipython3",
   "version": "3.12.0"
  }
 },
 "nbformat": 4,
 "nbformat_minor": 5
}
