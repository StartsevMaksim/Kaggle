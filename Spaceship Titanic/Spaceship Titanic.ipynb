{
 "cells": [
  {
   "cell_type": "code",
   "execution_count": 76,
   "id": "c9cdf59c-ee04-4beb-8c0d-0ce0b0082cd9",
   "metadata": {},
   "outputs": [],
   "source": [
    "import numpy as np\n",
    "import pandas as pd\n",
    "import matplotlib.pyplot as plt\n",
    "import seaborn as sns\n",
    "from sklearn.pipeline import Pipeline\n",
    "from sklearn.preprocessing import StandardScaler\n",
    "from sklearn.model_selection import train_test_split, GridSearchCV\n",
    "from sklearn.metrics import classification_report, ConfusionMatrixDisplay, accuracy_score\n",
    "from sklearn.svm import SVC\n",
    "from sklearn.neighbors import KNeighborsClassifier\n",
    "from sklearn.ensemble import AdaBoostClassifier, GradientBoostingClassifier\n",
    "from xgboost import XGBClassifier"
   ]
  },
  {
   "cell_type": "code",
   "execution_count": 90,
   "id": "848a5632-752d-4394-9203-74402c7437ce",
   "metadata": {},
   "outputs": [],
   "source": [
    "#Функция для поиска Единственного наиболее частого значения. Если таких нет или несколько, то выводит np.nan\n",
    "def aggGroupedVals(vals):\n",
    "    most_freq_cabin = pd.Series.mode(vals)\n",
    "    if most_freq_cabin.shape[0] != 1:\n",
    "        return np.nan\n",
    "    else:\n",
    "        return most_freq_cabin[0]\n",
    "\n",
    "#Обучение модели\n",
    "def train_model(model, df):\n",
    "    X = df.drop('Transported', axis=1)\n",
    "    y = df['Transported']\n",
    "    X_train, X_test, y_train, y_test = train_test_split(X, y, test_size=0.2, random_state=101)\n",
    "    model.fit(X_train, y_train)\n",
    "    y_predict = model.predict(X_test)\n",
    "    #print('Параметры модели')\n",
    "    #for param_name, param_val in grid_model.best_estimator_['model'].get_params().items():\n",
    "    #    print(f'{param_name} = {param_val}')\n",
    "    print(f'Доля правильных ответов = {accuracy_score(y_test, y_predict)}')\n",
    "    print(classification_report(y_test, y_predict))\n",
    "    ConfusionMatrixDisplay.from_estimator(model, X_test, y_test)"
   ]
  },
  {
   "cell_type": "code",
   "execution_count": 3,
   "id": "0dfb29cf-2bca-4443-8057-d10169f67682",
   "metadata": {},
   "outputs": [],
   "source": [
    "#Загрузка данных\n",
    "df_train_origin = pd.read_csv('train.csv', index_col='PassengerId')\n",
    "df_test_origin = pd.read_csv('test.csv', index_col='PassengerId')\n",
    "df_full = pd.concat([df_train_origin, df_test_origin], axis=0)"
   ]
  },
  {
   "cell_type": "code",
   "execution_count": 4,
   "id": "d362037b-1bd6-48c2-b1dc-a32bca0cb999",
   "metadata": {},
   "outputs": [
    {
     "name": "stdout",
     "output_type": "stream",
     "text": [
      "<class 'pandas.core.frame.DataFrame'>\n",
      "Index: 12970 entries, 0001_01 to 9277_01\n",
      "Data columns (total 13 columns):\n",
      " #   Column        Non-Null Count  Dtype  \n",
      "---  ------        --------------  -----  \n",
      " 0   HomePlanet    12682 non-null  object \n",
      " 1   CryoSleep     12660 non-null  object \n",
      " 2   Cabin         12671 non-null  object \n",
      " 3   Destination   12696 non-null  object \n",
      " 4   Age           12700 non-null  float64\n",
      " 5   VIP           12674 non-null  object \n",
      " 6   RoomService   12707 non-null  float64\n",
      " 7   FoodCourt     12681 non-null  float64\n",
      " 8   ShoppingMall  12664 non-null  float64\n",
      " 9   Spa           12686 non-null  float64\n",
      " 10  VRDeck        12702 non-null  float64\n",
      " 11  Name          12676 non-null  object \n",
      " 12  Transported   8693 non-null   object \n",
      "dtypes: float64(6), object(7)\n",
      "memory usage: 1.4+ MB\n"
     ]
    }
   ],
   "source": [
    "df_full.info()"
   ]
  },
  {
   "cell_type": "code",
   "execution_count": 5,
   "id": "d4068acf-6bb0-493f-8a5d-c40fd8c553af",
   "metadata": {},
   "outputs": [],
   "source": [
    "#Работаем с пропусками"
   ]
  },
  {
   "cell_type": "code",
   "execution_count": 6,
   "id": "f194bf22-4d47-4505-bc8c-8ecf1096f336",
   "metadata": {},
   "outputs": [],
   "source": [
    "#Cabin"
   ]
  },
  {
   "cell_type": "code",
   "execution_count": 7,
   "id": "0b8571da-ff51-4e72-9aa4-35b435580e00",
   "metadata": {},
   "outputs": [],
   "source": [
    "#На основании индекса PassengerID создадим 2 признака: PassengerGroup(группа пассажира) и\n",
    "#PassengerNo(номер пассажира в группе)\n",
    "pass_group_no = np.array([pairs for pairs in df_full.index.str.split('_').values])\n",
    "df_full['PassengerGroup'] = pass_group_no[:, 0].astype(np.int16)\n",
    "df_full['PassengerNo'] = pass_group_no[:, 1].astype(np.int16)\n",
    "#На основании признака Name создадим признак Surname(только фамилия пассажира)\n",
    "pass_surname = df_full['Name'].str.split(' ').values\n",
    "df_full['Surname'] = [np.nan if full_name is np.nan else full_name[-1] for full_name in pass_surname]"
   ]
  },
  {
   "cell_type": "code",
   "execution_count": 8,
   "id": "2549c389-b13e-49fd-9f24-9a3fb1108e32",
   "metadata": {},
   "outputs": [],
   "source": [
    "#Предполагаем, что люди из одной PassengerGroup и одинаковым Surname будут жить в одной Cabin\n",
    "pass_pairs_cabin = df_full.groupby(by=['PassengerGroup','Surname'])['Cabin'].agg(aggGroupedVals)\n",
    "pass_pairs_cabin.name = 'CabinFillNA'\n",
    "pass_pairs_cabin = df_full.merge(pass_pairs_cabin, \n",
    "                                 how='left', \n",
    "                                 left_on=['PassengerGroup','Surname'], \n",
    "                                 right_index=True)['CabinFillNA']\n",
    "df_full['Cabin'] = df_full['Cabin'].fillna(pass_pairs_cabin)"
   ]
  },
  {
   "cell_type": "code",
   "execution_count": 9,
   "id": "452e68eb-eb97-4a58-b8d5-f8c284a2e8c3",
   "metadata": {},
   "outputs": [],
   "source": [
    "#Далее для удобства создадим на основании Cabin 3 признака: CabinDeck(палуба), CabinNo(номер каюты) и \n",
    "#CabinSide(P-левый борт, S-правый борт)\n",
    "pass_cabin_info = df_full['Cabin'].str.split('/').values\n",
    "df_full['CabinDeck'] = [np.nan if info is np.nan else info[0] for info in pass_cabin_info]\n",
    "df_full['CabinNo'] = [np.nan if info is np.nan else info[1] for info in pass_cabin_info]\n",
    "df_full['CabinSide'] = [np.nan if info is np.nan else info[2] for info in pass_cabin_info]\n",
    "#Удалим Cabin\n",
    "df_full = df_full.drop('Cabin', axis=1)"
   ]
  },
  {
   "cell_type": "code",
   "execution_count": 10,
   "id": "a337ca52-7300-4fd3-9377-a597f2a86074",
   "metadata": {
    "scrolled": true
   },
   "outputs": [
    {
     "name": "stdout",
     "output_type": "stream",
     "text": [
      "Ситуация по признаку HomePlanet\n",
      "HomePlanet  CabinDeck\n",
      "Earth       G            3733\n",
      "            F            2436\n",
      "            E             586\n",
      "Europa      B            1142\n",
      "            C            1100\n",
      "            A             353\n",
      "            D             299\n",
      "            E             198\n",
      "            T              10\n",
      "Mars        F            1726\n",
      "            E             513\n",
      "            D             412\n",
      "Name: count, dtype: int64\n",
      "Ситуация по признаку CryoSleep\n",
      "CryoSleep  CabinDeck\n",
      "False      F            3299\n",
      "           G            1694\n",
      "           E            1044\n",
      "           C             621\n",
      "           D             544\n",
      "           B             516\n",
      "           A             245\n",
      "           T              10\n",
      "True       G            2029\n",
      "           F             861\n",
      "           B             617\n",
      "           C             471\n",
      "           E             257\n",
      "           D             171\n",
      "           A             106\n",
      "Name: count, dtype: int64\n",
      "Ситуация по признаку Destination\n",
      "Destination    CabinDeck\n",
      "55 Cancri e    F             574\n",
      "               G             540\n",
      "               B             517\n",
      "               C             472\n",
      "               D             177\n",
      "               E             167\n",
      "               A             163\n",
      "               T               2\n",
      "PSO J318.5-22  G             695\n",
      "               F             363\n",
      "               E              59\n",
      "               C              21\n",
      "               D              17\n",
      "               B               5\n",
      "               A               2\n",
      "TRAPPIST-1e    F            3229\n",
      "               G            2504\n",
      "               E            1071\n",
      "               B             615\n",
      "               C             607\n",
      "               D             520\n",
      "               A             191\n",
      "               T               9\n",
      "Name: count, dtype: int64\n",
      "Ситуация по признаку VIP\n",
      "VIP    CabinDeck\n",
      "False  F            4124\n",
      "       G            3726\n",
      "       E            1283\n",
      "       B            1076\n",
      "       C            1034\n",
      "       D             674\n",
      "       A             305\n",
      "       T              10\n",
      "True   B              59\n",
      "       C              58\n",
      "       A              46\n",
      "       D              42\n",
      "       F              42\n",
      "       E              26\n",
      "Name: count, dtype: int64\n"
     ]
    }
   ],
   "source": [
    "#Исследуем влияение HomePlanet, CryoSleep, Destination, VIP на CabinDeck, CabinSide\n",
    "for grouped_col in ['HomePlanet','CryoSleep','Destination','VIP']:\n",
    "    print(f'Ситуация по признаку {grouped_col}')\n",
    "    print(df_full.groupby(by=grouped_col)['CabinDeck'].value_counts())\n",
    "#Пассажиры достаточно равномерно распределены по палубам и бортам в зависимости от 'CryoSleep', 'Destination', 'VIP'"
   ]
  },
  {
   "cell_type": "code",
   "execution_count": 11,
   "id": "d7862804-1d96-4252-97af-85ed9384210d",
   "metadata": {},
   "outputs": [],
   "source": [
    "#Возьмем самые частые палубы в зависимости от HomePlanet\n",
    "pass_home_cabin = df_full.groupby(by='HomePlanet')['CabinDeck'].agg(aggGroupedVals)\n",
    "pass_home_cabin.name = 'CabinFillNA'\n",
    "pass_home_cabin = df_full.merge(pass_home_cabin, \n",
    "                                how='left', \n",
    "                                left_on='HomePlanet', \n",
    "                                right_index=True)['CabinFillNA']\n",
    "df_full['CabinDeck'] = df_full['CabinDeck'].fillna(pass_home_cabin)"
   ]
  },
  {
   "cell_type": "code",
   "execution_count": 12,
   "id": "0efdd448-0ab7-4355-854d-c7282c871929",
   "metadata": {},
   "outputs": [],
   "source": [
    "#Остальное заполним самой частой палубой по всей выборке\n",
    "df_full['CabinDeck'] = df_full['CabinDeck'].fillna('F')"
   ]
  },
  {
   "cell_type": "code",
   "execution_count": 13,
   "id": "73d7ccf4-9aeb-4fb0-a128-abe1b727c3a1",
   "metadata": {},
   "outputs": [],
   "source": [
    "#Видим, что на левом борту людей переносило меньше\n",
    "#Удалим CabinNo, а NaN значения для СabinSide заменим на Unknown\n",
    "df_full = df_full.drop('CabinNo', axis=1)\n",
    "df_full['CabinSide'] = df_full['CabinSide'].fillna('Unknown')"
   ]
  },
  {
   "cell_type": "code",
   "execution_count": 14,
   "id": "d333f8e6-e67b-4d37-acb0-385da97e388a",
   "metadata": {},
   "outputs": [
    {
     "data": {
      "text/plain": [
       "Transported  CabinSide\n",
       "False        P            2325\n",
       "             S            1925\n",
       "             Unknown        65\n",
       "True         S            2411\n",
       "             P            1918\n",
       "             Unknown        49\n",
       "Name: count, dtype: int64"
      ]
     },
     "execution_count": 14,
     "metadata": {},
     "output_type": "execute_result"
    }
   ],
   "source": [
    "df_full.groupby(by='Transported')['CabinSide'].value_counts()"
   ]
  },
  {
   "cell_type": "code",
   "execution_count": 15,
   "id": "99279299-4aa3-4d09-9dfa-6a400c51ad14",
   "metadata": {},
   "outputs": [],
   "source": [
    "#HomePlanet"
   ]
  },
  {
   "cell_type": "code",
   "execution_count": 16,
   "id": "465b5848-b70e-4000-b472-7211e676c74a",
   "metadata": {},
   "outputs": [
    {
     "data": {
      "text/plain": [
       "VIP    HomePlanet\n",
       "False  Earth         6706\n",
       "       Europa        2883\n",
       "       Mars          2533\n",
       "True   Europa         177\n",
       "       Mars            90\n",
       "Name: count, dtype: int64"
      ]
     },
     "execution_count": 16,
     "metadata": {},
     "output_type": "execute_result"
    }
   ],
   "source": [
    "#Зависимость HomePlanet от VIP\n",
    "df_full.groupby(by='VIP')['HomePlanet'].value_counts()"
   ]
  },
  {
   "cell_type": "code",
   "execution_count": 17,
   "id": "e9a947fd-be81-4bc3-b75f-bae5f0541e1a",
   "metadata": {},
   "outputs": [
    {
     "data": {
      "text/plain": [
       "CabinDeck  HomePlanet\n",
       "A          Europa         353\n",
       "B          Europa        1173\n",
       "C          Europa        1100\n",
       "D          Mars           412\n",
       "           Europa         299\n",
       "E          Earth          586\n",
       "           Mars           513\n",
       "           Europa         198\n",
       "F          Earth         2436\n",
       "           Mars          1759\n",
       "G          Earth         3843\n",
       "T          Europa          10\n",
       "Name: count, dtype: int64"
      ]
     },
     "execution_count": 17,
     "metadata": {},
     "output_type": "execute_result"
    }
   ],
   "source": [
    "#Зависимость HomePlanet от CabinDeck\n",
    "df_full.groupby(by='CabinDeck')['HomePlanet'].value_counts()"
   ]
  },
  {
   "cell_type": "code",
   "execution_count": 18,
   "id": "618223c8-50ef-44ce-9267-f9bb7663c620",
   "metadata": {},
   "outputs": [],
   "source": [
    "#Для каждой PassengerGroup найдем самую распространенную HomePlanet\n",
    "most_freq_home_for_pass_group = df_full.groupby(by='PassengerGroup')['HomePlanet'].agg(pd.Series.mode)\n",
    "most_freq_home_for_pass_group = most_freq_home_for_pass_group.where(most_freq_home_for_pass_group.str.len() > 0)\n",
    "most_freq_home_for_pass_group.name = 'HomeFillPassGroup'\n",
    "most_freq_home_for_pass_group = df_full.merge(most_freq_home_for_pass_group, \n",
    "                                              how='left', \n",
    "                                              left_on='PassengerGroup', \n",
    "                                              right_index=True)['HomeFillPassGroup']\n",
    "df_full['HomePlanet'] = df_full['HomePlanet'].fillna(most_freq_home_for_pass_group)"
   ]
  },
  {
   "cell_type": "code",
   "execution_count": 19,
   "id": "1d62fac7-9339-4e9c-b6ba-94b405d3fa5f",
   "metadata": {},
   "outputs": [],
   "source": [
    "#Для каждой CabinDeck найдем самую распространенную HomePlanet\n",
    "most_freq_home_for_deck = df_full.groupby(by='CabinDeck')['HomePlanet'].agg(pd.Series.mode)\n",
    "most_freq_home_for_deck.name = 'HomeFillDeck'\n",
    "most_freq_home_for_deck = df_full.merge(most_freq_home_for_deck, \n",
    "                                        how='left', \n",
    "                                        left_on='CabinDeck', \n",
    "                                        right_index=True)['HomeFillDeck']\n",
    "df_full['HomePlanet'] = df_full['HomePlanet'].fillna(most_freq_home_for_deck)"
   ]
  },
  {
   "cell_type": "code",
   "execution_count": 20,
   "id": "cf0cbc7d-86f6-47bd-9892-8c9367f8d7eb",
   "metadata": {},
   "outputs": [],
   "source": [
    "#ЗАМЕЧАНИЕ! С Earth нет VIP пассажиров. Заменим на Mars - единственная планета, которая подходит\n",
    "df_full.loc[df_full['VIP'] & (df_full['HomePlanet'] == 'Earth'), 'HomePlanet'] = 'Mars'"
   ]
  },
  {
   "cell_type": "code",
   "execution_count": 21,
   "id": "18035b9a-e436-4aa0-95c1-c0f33d80528b",
   "metadata": {},
   "outputs": [],
   "source": [
    "#Остальные 5 пропусков заменим на Earth, т.к. самая распространенная HomePlanet(по VIP подходит)\n",
    "df_full['HomePlanet'] = df_full['HomePlanet'].fillna('Earth')"
   ]
  },
  {
   "cell_type": "code",
   "execution_count": 22,
   "id": "6ba1b5bd-f6db-460c-842c-b6ab258a3117",
   "metadata": {},
   "outputs": [],
   "source": [
    "#CryoSleep"
   ]
  },
  {
   "cell_type": "code",
   "execution_count": 23,
   "id": "08e1e847-2ae3-4968-87d1-dd36d5e66d7e",
   "metadata": {
    "scrolled": true
   },
   "outputs": [
    {
     "name": "stdout",
     "output_type": "stream",
     "text": [
      "Ситуация по признаку HomePlanet\n",
      "HomePlanet  CryoSleep\n",
      "Earth       False        4756\n",
      "            True         2124\n",
      "Europa      False        1705\n",
      "            True         1401\n",
      "Mars        False        1618\n",
      "            True         1056\n",
      "Name: count, dtype: int64\n",
      "Ситуация по признаку Destination\n",
      "Destination    CryoSleep\n",
      "55 Cancri e    False        1475\n",
      "               True         1103\n",
      "PSO J318.5-22  False         583\n",
      "               True          575\n",
      "TRAPPIST-1e    False        5834\n",
      "               True         2823\n",
      "Name: count, dtype: int64\n",
      "Ситуация по признаку VIP\n",
      "VIP    CryoSleep\n",
      "False  False        7657\n",
      "       True         4449\n",
      "True   False         239\n",
      "       True           28\n",
      "Name: count, dtype: int64\n",
      "Ситуация по признаку CabinDeck\n",
      "CabinDeck  CryoSleep\n",
      "A          False         245\n",
      "           True          106\n",
      "B          True          632\n",
      "           False         530\n",
      "C          False         621\n",
      "           True          471\n",
      "D          False         544\n",
      "           True          171\n",
      "E          False        1044\n",
      "           True          257\n",
      "F          False        3323\n",
      "           True          875\n",
      "G          True         2069\n",
      "           False        1762\n",
      "T          False          10\n",
      "Name: count, dtype: int64\n"
     ]
    }
   ],
   "source": [
    "#Исследуем влияение HomePlanet, Destination, VIP, CabinDeck на CryoSleep\n",
    "for grouped_col in ['HomePlanet','Destination','VIP','CabinDeck']:\n",
    "    print(f'Ситуация по признаку {grouped_col}')\n",
    "    print(df_full.groupby(by=grouped_col)['CryoSleep'].value_counts())"
   ]
  },
  {
   "cell_type": "code",
   "execution_count": 24,
   "id": "c27708e8-e8f1-40a0-9e01-01f31397e233",
   "metadata": {},
   "outputs": [],
   "source": [
    "#Можно в зависимости от палубы находить CryoSleep\n",
    "pass_cabin_sleep = df_full.groupby(by='CabinDeck')['CryoSleep'].agg(aggGroupedVals)\n",
    "pass_cabin_sleep.name = 'CryoSleepFillNA'\n",
    "pass_cabin_sleep = df_full.merge(pass_cabin_sleep, \n",
    "                                 how='left', \n",
    "                                 left_on='CabinDeck', \n",
    "                                 right_index=True)['CryoSleepFillNA'].astype(np.float16)\n",
    "df_full['CryoSleep'] = df_full['CryoSleep'].fillna(pass_cabin_sleep)"
   ]
  },
  {
   "cell_type": "code",
   "execution_count": 25,
   "id": "6316724b-3f0b-4053-b2cf-4781b6892e46",
   "metadata": {},
   "outputs": [],
   "source": [
    "#Destination"
   ]
  },
  {
   "cell_type": "code",
   "execution_count": 26,
   "id": "842a9345-3eed-4f14-8f79-7e30cedd0762",
   "metadata": {
    "scrolled": true
   },
   "outputs": [
    {
     "name": "stdout",
     "output_type": "stream",
     "text": [
      "Ситуация по признаку HomePlanet\n",
      "HomePlanet  Destination  \n",
      "Earth       TRAPPIST-1e      4804\n",
      "            PSO J318.5-22    1087\n",
      "            55 Cancri e      1006\n",
      "Europa      TRAPPIST-1e      1765\n",
      "            55 Cancri e      1336\n",
      "            PSO J318.5-22      29\n",
      "Mars        TRAPPIST-1e      2302\n",
      "            55 Cancri e       299\n",
      "            PSO J318.5-22      68\n",
      "Name: count, dtype: int64\n",
      "Ситуация по признаку CryoSleep\n",
      "CryoSleep  Destination  \n",
      "False      TRAPPIST-1e      5965\n",
      "           55 Cancri e      1512\n",
      "           PSO J318.5-22     599\n",
      "True       TRAPPIST-1e      2906\n",
      "           55 Cancri e      1129\n",
      "           PSO J318.5-22     585\n",
      "Name: count, dtype: int64\n",
      "Ситуация по признаку VIP\n",
      "VIP    Destination  \n",
      "False  TRAPPIST-1e      8510\n",
      "       55 Cancri e      2491\n",
      "       PSO J318.5-22    1136\n",
      "True   TRAPPIST-1e       163\n",
      "       55 Cancri e        85\n",
      "       PSO J318.5-22      22\n",
      "Name: count, dtype: int64\n",
      "Ситуация по признаку CabinDeck\n",
      "CabinDeck  Destination  \n",
      "A          TRAPPIST-1e       191\n",
      "           55 Cancri e       163\n",
      "           PSO J318.5-22       2\n",
      "B          TRAPPIST-1e       632\n",
      "           55 Cancri e       530\n",
      "           PSO J318.5-22       6\n",
      "C          TRAPPIST-1e       607\n",
      "           55 Cancri e       472\n",
      "           PSO J318.5-22      21\n",
      "D          TRAPPIST-1e       520\n",
      "           55 Cancri e       177\n",
      "           PSO J318.5-22      17\n",
      "E          TRAPPIST-1e      1071\n",
      "           55 Cancri e       167\n",
      "           PSO J318.5-22      59\n",
      "F          TRAPPIST-1e      3260\n",
      "           55 Cancri e       577\n",
      "           PSO J318.5-22     365\n",
      "G          TRAPPIST-1e      2581\n",
      "           PSO J318.5-22     714\n",
      "           55 Cancri e       553\n",
      "T          TRAPPIST-1e         9\n",
      "           55 Cancri e         2\n",
      "Name: count, dtype: int64\n"
     ]
    }
   ],
   "source": [
    "#Исследуем влияение HomePlanet, CryoSleep, VIP, CabinDeck на Destination\n",
    "for grouped_col in ['HomePlanet','CryoSleep','VIP','CabinDeck']:\n",
    "    print(f'Ситуация по признаку {grouped_col}')\n",
    "    print(df_full.groupby(by=grouped_col)['Destination'].value_counts())"
   ]
  },
  {
   "cell_type": "code",
   "execution_count": 27,
   "id": "29b523dc-35f7-49e1-9a5f-bea2739696c3",
   "metadata": {},
   "outputs": [],
   "source": [
    "#Большинство летит на TRAPPIST-1e\n",
    "df_full['Destination'] = df_full['Destination'].fillna('TRAPPIST-1e')"
   ]
  },
  {
   "cell_type": "code",
   "execution_count": 28,
   "id": "7348ece3-9824-4605-a99b-d21a6c7a1d49",
   "metadata": {},
   "outputs": [],
   "source": [
    "#RoomService, FoodCourt, ShoppingMall, Spa, VRDeck"
   ]
  },
  {
   "cell_type": "code",
   "execution_count": 29,
   "id": "fff3e6fa-4ac8-43f2-85da-6c35b18c9a83",
   "metadata": {},
   "outputs": [],
   "source": [
    "#Заменяем нулями\n",
    "df_full['RoomService'] = df_full['RoomService'].fillna(0)\n",
    "df_full['FoodCourt'] = df_full['FoodCourt'].fillna(0)\n",
    "df_full['ShoppingMall'] = df_full['ShoppingMall'].fillna(0)\n",
    "df_full['Spa'] = df_full['Spa'].fillna(0)\n",
    "df_full['VRDeck'] = df_full['VRDeck'].fillna(0)"
   ]
  },
  {
   "cell_type": "code",
   "execution_count": 30,
   "id": "ed9313f4-a356-4371-8530-0f8a5e3c7374",
   "metadata": {},
   "outputs": [],
   "source": [
    "#Создадим признак со всеми затратами на развлечение\n",
    "df_full['AllSpending'] = np.sum(df_full[['RoomService','FoodCourt','ShoppingMall','Spa','VRDeck']], axis=1)"
   ]
  },
  {
   "cell_type": "code",
   "execution_count": 31,
   "id": "d87fcc09-10c8-4301-8386-a04168f609c8",
   "metadata": {},
   "outputs": [],
   "source": [
    "#VIP"
   ]
  },
  {
   "cell_type": "code",
   "execution_count": 32,
   "id": "8ab28941-4953-4a1e-857b-cc9899e7d5a0",
   "metadata": {},
   "outputs": [
    {
     "data": {
      "text/plain": [
       "<Axes: xlabel='AllSpending', ylabel='VIP'>"
      ]
     },
     "execution_count": 32,
     "metadata": {},
     "output_type": "execute_result"
    },
    {
     "data": {
      "image/png": "[encoded data removed]",
      "text/plain": [
       "<Figure size 640x480 with 1 Axes>"
      ]
     },
     "metadata": {},
     "output_type": "display_data"
    }
   ],
   "source": [
    "#Основная масса VIP пассажиров не тратит много денег на доп. развлечения, однако многие и без VIP не тратят\n",
    "sns.scatterplot(data=df_full[df_full['AllSpending']>0], x='AllSpending', y='VIP')"
   ]
  },
  {
   "cell_type": "code",
   "execution_count": 33,
   "id": "b1506b23-9c0f-4fa0-826f-3f71d46326a3",
   "metadata": {},
   "outputs": [],
   "source": [
    "#Заменим Nan на False\n",
    "df_full['VIP'] = df_full['VIP'].fillna(0)"
   ]
  },
  {
   "cell_type": "code",
   "execution_count": 34,
   "id": "cc3be656-0500-4633-b21a-3a09853cef21",
   "metadata": {},
   "outputs": [],
   "source": [
    "#Age"
   ]
  },
  {
   "cell_type": "code",
   "execution_count": 35,
   "id": "220330c2-139a-436f-8235-cda260636056",
   "metadata": {},
   "outputs": [
    {
     "data": {
      "text/plain": [
       "CabinDeck\n",
       "A    35.484330\n",
       "B    33.607204\n",
       "C    34.690064\n",
       "D    33.446779\n",
       "E    30.214559\n",
       "F    28.417971\n",
       "G    24.007035\n",
       "T    35.545455\n",
       "Name: Age, dtype: float64"
      ]
     },
     "execution_count": 35,
     "metadata": {},
     "output_type": "execute_result"
    }
   ],
   "source": [
    "df_full.groupby(by='CabinDeck')['Age'].mean()"
   ]
  },
  {
   "cell_type": "code",
   "execution_count": 36,
   "id": "981c6630-2ac4-4cbf-bbb8-7be4b559aff9",
   "metadata": {},
   "outputs": [],
   "source": [
    "#Можно в зависимости от палубы находить средний возраст\n",
    "pass_cabin_age = df_full.groupby(by='CabinDeck')['Age'].mean()\n",
    "pass_cabin_age.name = 'AgeFillNA'\n",
    "pass_cabin_age = df_full.merge(pass_cabin_age, \n",
    "                               how='left', \n",
    "                               left_on='CabinDeck', \n",
    "                               right_index=True)['AgeFillNA']\n",
    "df_full['Age'] = df_full['Age'].fillna(pass_cabin_age)"
   ]
  },
  {
   "cell_type": "code",
   "execution_count": 37,
   "id": "3cf2b061-377b-49f3-bdf2-24775646bc35",
   "metadata": {},
   "outputs": [],
   "source": [
    "#Работа с признаками"
   ]
  },
  {
   "cell_type": "code",
   "execution_count": 38,
   "id": "42307dd7-30aa-4120-a25d-41cb4f79e9ce",
   "metadata": {},
   "outputs": [
    {
     "data": {
      "image/png": "[encoded data removed]",
      "text/plain": [
       "<Figure size 1080x720 with 2 Axes>"
      ]
     },
     "metadata": {},
     "output_type": "display_data"
    }
   ],
   "source": [
    "#Оставим затраты на развлечения в раздельном виде (удалим AllSpending)\n",
    "plt.figure(figsize=(12,8),dpi=90)\n",
    "sns.heatmap(df_full[['CryoSleep','VIP','RoomService','FoodCourt','ShoppingMall',\n",
    "                     'Spa','VRDeck','AllSpending','Transported']].corr(),\n",
    "            annot=True)\n",
    "df_full = df_full.drop('AllSpending', axis=1)"
   ]
  },
  {
   "cell_type": "code",
   "execution_count": 39,
   "id": "abca0963-c6fa-4b50-819a-5f429de0de21",
   "metadata": {},
   "outputs": [
    {
     "data": {
      "image/png": "[encoded data removed]",
      "text/plain": [
       "<Figure size 2100x1200 with 1 Axes>"
      ]
     },
     "metadata": {},
     "output_type": "display_data"
    }
   ],
   "source": [
    "#В целом Перемещенные пассажиры в каждой группе составляют половину от всех пассажиров. Выделять \n",
    "#значения PassengerGroup в отдельные кластеры с преобладанием какого-либо значения Transported не имеет смысла\n",
    "#Удаляем \n",
    "plt.figure(figsize=(14,8),dpi=150)\n",
    "sns.histplot(df_full, x='PassengerGroup', bins=200, hue='Transported', multiple='stack')\n",
    "df_full = df_full.drop(['PassengerGroup','PassengerNo'], axis=1)"
   ]
  },
  {
   "cell_type": "code",
   "execution_count": 40,
   "id": "728e1ddc-4244-4a07-b598-7737c2274814",
   "metadata": {},
   "outputs": [],
   "source": [
    "#Людей с VIP статусом всего 2% от всех, можно удалить признак\n",
    "#Удаляем VIP, Name, Surname\n",
    "df_full = df_full.drop(['VIP','Name','Surname'], axis=1)"
   ]
  },
  {
   "cell_type": "code",
   "execution_count": 41,
   "id": "10484197-cc9c-4174-8cc0-9e06ecbd53d9",
   "metadata": {},
   "outputs": [],
   "source": [
    "#Приведем Transported к типу Int\n",
    "df_full['Transported'] = df_full['Transported'].astype(np.float64)"
   ]
  },
  {
   "cell_type": "code",
   "execution_count": 42,
   "id": "0c5f6ebc-1efe-4b3c-a013-53ebd40b8045",
   "metadata": {},
   "outputs": [],
   "source": [
    "#Создаем Dummy-переменные\n",
    "df_dummy = pd.get_dummies(df_full)"
   ]
  },
  {
   "cell_type": "code",
   "execution_count": 43,
   "id": "da65260b-9e49-4aa6-b125-fbf067b1531c",
   "metadata": {},
   "outputs": [],
   "source": [
    "#Из-за малого кол-ва пассажиров на палубе T можно удалить CabinDeck_T\n",
    "df_dummy['CabinDeck_T'].value_counts()\n",
    "df_dummy = df_dummy.drop('CabinDeck_T', axis=1)"
   ]
  },
  {
   "cell_type": "code",
   "execution_count": 44,
   "id": "44480214-39ee-4cef-b5e1-b7532cce95f0",
   "metadata": {},
   "outputs": [],
   "source": [
    "#Из-за малого кол-ва Unknown значения борта можно удалить CabinSide_Unknown\n",
    "df_dummy['CabinSide_Unknown'].value_counts()\n",
    "df_dummy = df_dummy.drop('CabinSide_Unknown', axis=1)"
   ]
  },
  {
   "cell_type": "code",
   "execution_count": 45,
   "id": "2d24689a-0794-4ba2-839e-592e0fb0854c",
   "metadata": {},
   "outputs": [
    {
     "name": "stdout",
     "output_type": "stream",
     "text": [
      "<class 'pandas.core.frame.DataFrame'>\n",
      "Index: 12970 entries, 0001_01 to 9277_01\n",
      "Data columns (total 24 columns):\n",
      " #   Column                     Non-Null Count  Dtype  \n",
      "---  ------                     --------------  -----  \n",
      " 0   Age                        12970 non-null  float64\n",
      " 1   RoomService                12970 non-null  float64\n",
      " 2   FoodCourt                  12970 non-null  float64\n",
      " 3   ShoppingMall               12970 non-null  float64\n",
      " 4   Spa                        12970 non-null  float64\n",
      " 5   VRDeck                     12970 non-null  float64\n",
      " 6   Transported                8693 non-null   float64\n",
      " 7   HomePlanet_Earth           12970 non-null  bool   \n",
      " 8   HomePlanet_Europa          12970 non-null  bool   \n",
      " 9   HomePlanet_Mars            12970 non-null  bool   \n",
      " 10  CryoSleep_False            12970 non-null  bool   \n",
      " 11  CryoSleep_True             12970 non-null  bool   \n",
      " 12  Destination_55 Cancri e    12970 non-null  bool   \n",
      " 13  Destination_PSO J318.5-22  12970 non-null  bool   \n",
      " 14  Destination_TRAPPIST-1e    12970 non-null  bool   \n",
      " 15  CabinDeck_A                12970 non-null  bool   \n",
      " 16  CabinDeck_B                12970 non-null  bool   \n",
      " 17  CabinDeck_C                12970 non-null  bool   \n",
      " 18  CabinDeck_D                12970 non-null  bool   \n",
      " 19  CabinDeck_E                12970 non-null  bool   \n",
      " 20  CabinDeck_F                12970 non-null  bool   \n",
      " 21  CabinDeck_G                12970 non-null  bool   \n",
      " 22  CabinSide_P                12970 non-null  bool   \n",
      " 23  CabinSide_S                12970 non-null  bool   \n",
      "dtypes: bool(17), float64(7)\n",
      "memory usage: 1.5+ MB\n"
     ]
    }
   ],
   "source": [
    "df_dummy.info()"
   ]
  },
  {
   "cell_type": "code",
   "execution_count": 46,
   "id": "c1c505b7-0647-4be8-9207-7cde05f0aa43",
   "metadata": {},
   "outputs": [],
   "source": [
    "#Обучение"
   ]
  },
  {
   "cell_type": "code",
   "execution_count": 47,
   "id": "0c9ea41b-1397-4afc-9df2-4aecb414dfc5",
   "metadata": {},
   "outputs": [],
   "source": [
    "#Разделение на Training и Resulting\n",
    "df_training = df_dummy.dropna().astype({'Transported': bool})\n",
    "df_resulting = df_dummy[df_dummy['Transported'].isna()].drop('Transported', axis=1)"
   ]
  },
  {
   "cell_type": "code",
   "execution_count": 91,
   "id": "83ad964d-0e5d-499f-a76a-7442baa6f6b9",
   "metadata": {},
   "outputs": [
    {
     "name": "stdout",
     "output_type": "stream",
     "text": [
      "Доля правильных ответов = 0.8039102932719954\n",
      "              precision    recall  f1-score   support\n",
      "\n",
      "       False       0.82      0.78      0.80       877\n",
      "        True       0.79      0.83      0.81       862\n",
      "\n",
      "    accuracy                           0.80      1739\n",
      "   macro avg       0.80      0.80      0.80      1739\n",
      "weighted avg       0.80      0.80      0.80      1739\n",
      "\n"
     ]
    },
    {
     "data": {
      "image/png": "[encoded data removed]",
      "text/plain": [
       "<Figure size 640x480 with 2 Axes>"
      ]
     },
     "metadata": {},
     "output_type": "display_data"
    }
   ],
   "source": [
    "#SVC\n",
    "scaler = StandardScaler()\n",
    "svc_model = SVC()\n",
    "pipe_model = Pipeline([('scaler', scaler), ('model', svc_model)])\n",
    "grid_params = {'model__C': [1.3]}\n",
    "grid_model = GridSearchCV(pipe_model, grid_params, scoring='accuracy', cv=5, verbose=0)\n",
    "train_model(grid_model, df_training)"
   ]
  },
  {
   "cell_type": "code",
   "execution_count": 92,
   "id": "3c12676d-8981-4c3c-bc8f-fa645fd54965",
   "metadata": {},
   "outputs": [
    {
     "name": "stdout",
     "output_type": "stream",
     "text": [
      "Доля правильных ответов = 0.7832087406555491\n",
      "              precision    recall  f1-score   support\n",
      "\n",
      "       False       0.78      0.80      0.79       877\n",
      "        True       0.79      0.77      0.78       862\n",
      "\n",
      "    accuracy                           0.78      1739\n",
      "   macro avg       0.78      0.78      0.78      1739\n",
      "weighted avg       0.78      0.78      0.78      1739\n",
      "\n"
     ]
    },
    {
     "data": {
      "image/png": "[encoded data removed]",
      "text/plain": [
       "<Figure size 640x480 with 2 Axes>"
      ]
     },
     "metadata": {},
     "output_type": "display_data"
    }
   ],
   "source": [
    "#KNN\n",
    "scaler = StandardScaler()\n",
    "knn_model = KNeighborsClassifier()\n",
    "pipe_model = Pipeline([('scaler', scaler), ('model', knn_model)])\n",
    "grid_params = {'model__n_neighbors': [22]}\n",
    "grid_model = GridSearchCV(pipe_model, grid_params, scoring='accuracy', cv=5, verbose=0)\n",
    "train_model(grid_model, df_training)"
   ]
  },
  {
   "cell_type": "code",
   "execution_count": 94,
   "id": "e8967fcb-398e-4994-9207-bec258ad78f1",
   "metadata": {},
   "outputs": [
    {
     "name": "stdout",
     "output_type": "stream",
     "text": [
      "Доля правильных ответов = 0.7889591719378953\n",
      "              precision    recall  f1-score   support\n",
      "\n",
      "       False       0.81      0.76      0.78       877\n",
      "        True       0.77      0.82      0.79       862\n",
      "\n",
      "    accuracy                           0.79      1739\n",
      "   macro avg       0.79      0.79      0.79      1739\n",
      "weighted avg       0.79      0.79      0.79      1739\n",
      "\n"
     ]
    },
    {
     "data": {
      "image/png": "[encoded data removed]",
      "text/plain": [
       "<Figure size 640x480 with 2 Axes>"
      ]
     },
     "metadata": {},
     "output_type": "display_data"
    }
   ],
   "source": [
    "#AdaBoost\n",
    "ada_boost_model = AdaBoostClassifier()\n",
    "pipe_model = Pipeline([('model', ada_boost_model)])\n",
    "grid_params = {'model__n_estimators': [698]}\n",
    "grid_model = GridSearchCV(pipe_model, grid_params, scoring='accuracy', cv=5, verbose=0)\n",
    "train_model(grid_model, df_training)"
   ]
  },
  {
   "cell_type": "code",
   "execution_count": 95,
   "id": "e991db12-75e6-476f-9a2e-05fcef67c55a",
   "metadata": {},
   "outputs": [
    {
     "name": "stdout",
     "output_type": "stream",
     "text": [
      "Доля правильных ответов = 0.8021851638872916\n",
      "              precision    recall  f1-score   support\n",
      "\n",
      "       False       0.84      0.75      0.79       877\n",
      "        True       0.77      0.85      0.81       862\n",
      "\n",
      "    accuracy                           0.80      1739\n",
      "   macro avg       0.81      0.80      0.80      1739\n",
      "weighted avg       0.81      0.80      0.80      1739\n",
      "\n"
     ]
    },
    {
     "data": {
      "image/png": "[encoded data removed]",
      "text/plain": [
       "<Figure size 640x480 with 2 Axes>"
      ]
     },
     "metadata": {},
     "output_type": "display_data"
    }
   ],
   "source": [
    "#GradBoost\n",
    "grad_boost_model = GradientBoostingClassifier(criterion='squared_error')\n",
    "pipe_model = Pipeline([('model', grad_boost_model)])\n",
    "grid_params = {'model__n_estimators': [255]}\n",
    "grid_model = GridSearchCV(pipe_model, grid_params, scoring='accuracy', cv=5, verbose=0)\n",
    "train_model(grid_model, df_training)"
   ]
  },
  {
   "cell_type": "code",
   "execution_count": 96,
   "id": "2c4c1a1a-5899-404e-993c-c92c0368ef08",
   "metadata": {},
   "outputs": [
    {
     "name": "stdout",
     "output_type": "stream",
     "text": [
      "Доля правильных ответов = 0.8010350776308223\n",
      "              precision    recall  f1-score   support\n",
      "\n",
      "       False       0.82      0.77      0.80       877\n",
      "        True       0.78      0.83      0.80       862\n",
      "\n",
      "    accuracy                           0.80      1739\n",
      "   macro avg       0.80      0.80      0.80      1739\n",
      "weighted avg       0.80      0.80      0.80      1739\n",
      "\n"
     ]
    },
    {
     "data": {
      "image/png": "[encoded data removed]",
      "text/plain": [
       "<Figure size 640x480 with 2 Axes>"
      ]
     },
     "metadata": {},
     "output_type": "display_data"
    }
   ],
   "source": [
    "#XGBoost\n",
    "xgboost_model = XGBClassifier()\n",
    "pipe_model = Pipeline([('model', xgboost_model)])\n",
    "grid_params = {'model__n_estimators': [169],\n",
    "               'model__max_leaves': [7]}\n",
    "grid_model = GridSearchCV(pipe_model, grid_params, scoring='accuracy', cv=5, verbose=0)\n",
    "train_model(grid_model, df_training)"
   ]
  },
  {
   "cell_type": "code",
   "execution_count": 109,
   "id": "b473ebb4-c02b-426d-861e-122437467a13",
   "metadata": {},
   "outputs": [],
   "source": [
    "#Окончательный прогноз\n",
    "X_train = df_training.drop('Transported', axis=1)\n",
    "y_train = df_training['Transported']\n",
    "X_result = df_resulting"
   ]
  },
  {
   "cell_type": "code",
   "execution_count": 110,
   "id": "2565d054-c292-4947-a856-116f5535193f",
   "metadata": {},
   "outputs": [
    {
     "data": {
      "text/html": [
       "<style>#sk-container-id-2 {\n",
       "  /* Definition of color scheme common for light and dark mode */\n",
       "  --sklearn-color-text: #000;\n",
       "  --sklearn-color-text-muted: #666;\n",
       "  --sklearn-color-line: gray;\n",
       "  /* Definition of color scheme for unfitted estimators */\n",
       "  --sklearn-color-unfitted-level-0: #fff5e6;\n",
       "  --sklearn-color-unfitted-level-1: #f6e4d2;\n",
       "  --sklearn-color-unfitted-level-2: #ffe0b3;\n",
       "  --sklearn-color-unfitted-level-3: chocolate;\n",
       "  /* Definition of color scheme for fitted estimators */\n",
       "  --sklearn-color-fitted-level-0: #f0f8ff;\n",
       "  --sklearn-color-fitted-level-1: #d4ebff;\n",
       "  --sklearn-color-fitted-level-2: #b3dbfd;\n",
       "  --sklearn-color-fitted-level-3: cornflowerblue;\n",
       "\n",
       "  /* Specific color for light theme */\n",
       "  --sklearn-color-text-on-default-background: var(--sg-text-color, var(--theme-code-foreground, var(--jp-content-font-color1, black)));\n",
       "  --sklearn-color-background: var(--sg-background-color, var(--theme-background, var(--jp-layout-color0, white)));\n",
       "  --sklearn-color-border-box: var(--sg-text-color, var(--theme-code-foreground, var(--jp-content-font-color1, black)));\n",
       "  --sklearn-color-icon: #696969;\n",
       "\n",
       "  @media (prefers-color-scheme: dark) {\n",
       "    /* Redefinition of color scheme for dark theme */\n",
       "    --sklearn-color-text-on-default-background: var(--sg-text-color, var(--theme-code-foreground, var(--jp-content-font-color1, white)));\n",
       "    --sklearn-color-background: var(--sg-background-color, var(--theme-background, var(--jp-layout-color0, #111)));\n",
       "    --sklearn-color-border-box: var(--sg-text-color, var(--theme-code-foreground, var(--jp-content-font-color1, white)));\n",
       "    --sklearn-color-icon: #878787;\n",
       "  }\n",
       "}\n",
       "\n",
       "#sk-container-id-2 {\n",
       "  color: var(--sklearn-color-text);\n",
       "}\n",
       "\n",
       "#sk-container-id-2 pre {\n",
       "  padding: 0;\n",
       "}\n",
       "\n",
       "#sk-container-id-2 input.sk-hidden--visually {\n",
       "  border: 0;\n",
       "  clip: rect(1px 1px 1px 1px);\n",
       "  clip: rect(1px, 1px, 1px, 1px);\n",
       "  height: 1px;\n",
       "  margin: -1px;\n",
       "  overflow: hidden;\n",
       "  padding: 0;\n",
       "  position: absolute;\n",
       "  width: 1px;\n",
       "}\n",
       "\n",
       "#sk-container-id-2 div.sk-dashed-wrapped {\n",
       "  border: 1px dashed var(--sklearn-color-line);\n",
       "  margin: 0 0.4em 0.5em 0.4em;\n",
       "  box-sizing: border-box;\n",
       "  padding-bottom: 0.4em;\n",
       "  background-color: var(--sklearn-color-background);\n",
       "}\n",
       "\n",
       "#sk-container-id-2 div.sk-container {\n",
       "  /* jupyter's `normalize.less` sets `[hidden] { display: none; }`\n",
       "     but bootstrap.min.css set `[hidden] { display: none !important; }`\n",
       "     so we also need the `!important` here to be able to override the\n",
       "     default hidden behavior on the sphinx rendered scikit-learn.org.\n",
       "     See: https://github.com/scikit-learn/scikit-learn/issues/21755 */\n",
       "  display: inline-block !important;\n",
       "  position: relative;\n",
       "}\n",
       "\n",
       "#sk-container-id-2 div.sk-text-repr-fallback {\n",
       "  display: none;\n",
       "}\n",
       "\n",
       "div.sk-parallel-item,\n",
       "div.sk-serial,\n",
       "div.sk-item {\n",
       "  /* draw centered vertical line to link estimators */\n",
       "  background-image: linear-gradient(var(--sklearn-color-text-on-default-background), var(--sklearn-color-text-on-default-background));\n",
       "  background-size: 2px 100%;\n",
       "  background-repeat: no-repeat;\n",
       "  background-position: center center;\n",
       "}\n",
       "\n",
       "/* Parallel-specific style estimator block */\n",
       "\n",
       "#sk-container-id-2 div.sk-parallel-item::after {\n",
       "  content: \"\";\n",
       "  width: 100%;\n",
       "  border-bottom: 2px solid var(--sklearn-color-text-on-default-background);\n",
       "  flex-grow: 1;\n",
       "}\n",
       "\n",
       "#sk-container-id-2 div.sk-parallel {\n",
       "  display: flex;\n",
       "  align-items: stretch;\n",
       "  justify-content: center;\n",
       "  background-color: var(--sklearn-color-background);\n",
       "  position: relative;\n",
       "}\n",
       "\n",
       "#sk-container-id-2 div.sk-parallel-item {\n",
       "  display: flex;\n",
       "  flex-direction: column;\n",
       "}\n",
       "\n",
       "#sk-container-id-2 div.sk-parallel-item:first-child::after {\n",
       "  align-self: flex-end;\n",
       "  width: 50%;\n",
       "}\n",
       "\n",
       "#sk-container-id-2 div.sk-parallel-item:last-child::after {\n",
       "  align-self: flex-start;\n",
       "  width: 50%;\n",
       "}\n",
       "\n",
       "#sk-container-id-2 div.sk-parallel-item:only-child::after {\n",
       "  width: 0;\n",
       "}\n",
       "\n",
       "/* Serial-specific style estimator block */\n",
       "\n",
       "#sk-container-id-2 div.sk-serial {\n",
       "  display: flex;\n",
       "  flex-direction: column;\n",
       "  align-items: center;\n",
       "  background-color: var(--sklearn-color-background);\n",
       "  padding-right: 1em;\n",
       "  padding-left: 1em;\n",
       "}\n",
       "\n",
       "\n",
       "/* Toggleable style: style used for estimator/Pipeline/ColumnTransformer box that is\n",
       "clickable and can be expanded/collapsed.\n",
       "- Pipeline and ColumnTransformer use this feature and define the default style\n",
       "- Estimators will overwrite some part of the style using the `sk-estimator` class\n",
       "*/\n",
       "\n",
       "/* Pipeline and ColumnTransformer style (default) */\n",
       "\n",
       "#sk-container-id-2 div.sk-toggleable {\n",
       "  /* Default theme specific background. It is overwritten whether we have a\n",
       "  specific estimator or a Pipeline/ColumnTransformer */\n",
       "  background-color: var(--sklearn-color-background);\n",
       "}\n",
       "\n",
       "/* Toggleable label */\n",
       "#sk-container-id-2 label.sk-toggleable__label {\n",
       "  cursor: pointer;\n",
       "  display: flex;\n",
       "  width: 100%;\n",
       "  margin-bottom: 0;\n",
       "  padding: 0.5em;\n",
       "  box-sizing: border-box;\n",
       "  text-align: center;\n",
       "  align-items: start;\n",
       "  justify-content: space-between;\n",
       "  gap: 0.5em;\n",
       "}\n",
       "\n",
       "#sk-container-id-2 label.sk-toggleable__label .caption {\n",
       "  font-size: 0.6rem;\n",
       "  font-weight: lighter;\n",
       "  color: var(--sklearn-color-text-muted);\n",
       "}\n",
       "\n",
       "#sk-container-id-2 label.sk-toggleable__label-arrow:before {\n",
       "  /* Arrow on the left of the label */\n",
       "  content: \"▸\";\n",
       "  float: left;\n",
       "  margin-right: 0.25em;\n",
       "  color: var(--sklearn-color-icon);\n",
       "}\n",
       "\n",
       "#sk-container-id-2 label.sk-toggleable__label-arrow:hover:before {\n",
       "  color: var(--sklearn-color-text);\n",
       "}\n",
       "\n",
       "/* Toggleable content - dropdown */\n",
       "\n",
       "#sk-container-id-2 div.sk-toggleable__content {\n",
       "  display: none;\n",
       "  text-align: left;\n",
       "  /* unfitted */\n",
       "  background-color: var(--sklearn-color-unfitted-level-0);\n",
       "}\n",
       "\n",
       "#sk-container-id-2 div.sk-toggleable__content.fitted {\n",
       "  /* fitted */\n",
       "  background-color: var(--sklearn-color-fitted-level-0);\n",
       "}\n",
       "\n",
       "#sk-container-id-2 div.sk-toggleable__content pre {\n",
       "  margin: 0.2em;\n",
       "  border-radius: 0.25em;\n",
       "  color: var(--sklearn-color-text);\n",
       "  /* unfitted */\n",
       "  background-color: var(--sklearn-color-unfitted-level-0);\n",
       "}\n",
       "\n",
       "#sk-container-id-2 div.sk-toggleable__content.fitted pre {\n",
       "  /* unfitted */\n",
       "  background-color: var(--sklearn-color-fitted-level-0);\n",
       "}\n",
       "\n",
       "#sk-container-id-2 input.sk-toggleable__control:checked~div.sk-toggleable__content {\n",
       "  /* Expand drop-down */\n",
       "  display: block;\n",
       "  width: 100%;\n",
       "  overflow: visible;\n",
       "}\n",
       "\n",
       "#sk-container-id-2 input.sk-toggleable__control:checked~label.sk-toggleable__label-arrow:before {\n",
       "  content: \"▾\";\n",
       "}\n",
       "\n",
       "/* Pipeline/ColumnTransformer-specific style */\n",
       "\n",
       "#sk-container-id-2 div.sk-label input.sk-toggleable__control:checked~label.sk-toggleable__label {\n",
       "  color: var(--sklearn-color-text);\n",
       "  background-color: var(--sklearn-color-unfitted-level-2);\n",
       "}\n",
       "\n",
       "#sk-container-id-2 div.sk-label.fitted input.sk-toggleable__control:checked~label.sk-toggleable__label {\n",
       "  background-color: var(--sklearn-color-fitted-level-2);\n",
       "}\n",
       "\n",
       "/* Estimator-specific style */\n",
       "\n",
       "/* Colorize estimator box */\n",
       "#sk-container-id-2 div.sk-estimator input.sk-toggleable__control:checked~label.sk-toggleable__label {\n",
       "  /* unfitted */\n",
       "  background-color: var(--sklearn-color-unfitted-level-2);\n",
       "}\n",
       "\n",
       "#sk-container-id-2 div.sk-estimator.fitted input.sk-toggleable__control:checked~label.sk-toggleable__label {\n",
       "  /* fitted */\n",
       "  background-color: var(--sklearn-color-fitted-level-2);\n",
       "}\n",
       "\n",
       "#sk-container-id-2 div.sk-label label.sk-toggleable__label,\n",
       "#sk-container-id-2 div.sk-label label {\n",
       "  /* The background is the default theme color */\n",
       "  color: var(--sklearn-color-text-on-default-background);\n",
       "}\n",
       "\n",
       "/* On hover, darken the color of the background */\n",
       "#sk-container-id-2 div.sk-label:hover label.sk-toggleable__label {\n",
       "  color: var(--sklearn-color-text);\n",
       "  background-color: var(--sklearn-color-unfitted-level-2);\n",
       "}\n",
       "\n",
       "/* Label box, darken color on hover, fitted */\n",
       "#sk-container-id-2 div.sk-label.fitted:hover label.sk-toggleable__label.fitted {\n",
       "  color: var(--sklearn-color-text);\n",
       "  background-color: var(--sklearn-color-fitted-level-2);\n",
       "}\n",
       "\n",
       "/* Estimator label */\n",
       "\n",
       "#sk-container-id-2 div.sk-label label {\n",
       "  font-family: monospace;\n",
       "  font-weight: bold;\n",
       "  display: inline-block;\n",
       "  line-height: 1.2em;\n",
       "}\n",
       "\n",
       "#sk-container-id-2 div.sk-label-container {\n",
       "  text-align: center;\n",
       "}\n",
       "\n",
       "/* Estimator-specific */\n",
       "#sk-container-id-2 div.sk-estimator {\n",
       "  font-family: monospace;\n",
       "  border: 1px dotted var(--sklearn-color-border-box);\n",
       "  border-radius: 0.25em;\n",
       "  box-sizing: border-box;\n",
       "  margin-bottom: 0.5em;\n",
       "  /* unfitted */\n",
       "  background-color: var(--sklearn-color-unfitted-level-0);\n",
       "}\n",
       "\n",
       "#sk-container-id-2 div.sk-estimator.fitted {\n",
       "  /* fitted */\n",
       "  background-color: var(--sklearn-color-fitted-level-0);\n",
       "}\n",
       "\n",
       "/* on hover */\n",
       "#sk-container-id-2 div.sk-estimator:hover {\n",
       "  /* unfitted */\n",
       "  background-color: var(--sklearn-color-unfitted-level-2);\n",
       "}\n",
       "\n",
       "#sk-container-id-2 div.sk-estimator.fitted:hover {\n",
       "  /* fitted */\n",
       "  background-color: var(--sklearn-color-fitted-level-2);\n",
       "}\n",
       "\n",
       "/* Specification for estimator info (e.g. \"i\" and \"?\") */\n",
       "\n",
       "/* Common style for \"i\" and \"?\" */\n",
       "\n",
       ".sk-estimator-doc-link,\n",
       "a:link.sk-estimator-doc-link,\n",
       "a:visited.sk-estimator-doc-link {\n",
       "  float: right;\n",
       "  font-size: smaller;\n",
       "  line-height: 1em;\n",
       "  font-family: monospace;\n",
       "  background-color: var(--sklearn-color-background);\n",
       "  border-radius: 1em;\n",
       "  height: 1em;\n",
       "  width: 1em;\n",
       "  text-decoration: none !important;\n",
       "  margin-left: 0.5em;\n",
       "  text-align: center;\n",
       "  /* unfitted */\n",
       "  border: var(--sklearn-color-unfitted-level-1) 1pt solid;\n",
       "  color: var(--sklearn-color-unfitted-level-1);\n",
       "}\n",
       "\n",
       ".sk-estimator-doc-link.fitted,\n",
       "a:link.sk-estimator-doc-link.fitted,\n",
       "a:visited.sk-estimator-doc-link.fitted {\n",
       "  /* fitted */\n",
       "  border: var(--sklearn-color-fitted-level-1) 1pt solid;\n",
       "  color: var(--sklearn-color-fitted-level-1);\n",
       "}\n",
       "\n",
       "/* On hover */\n",
       "div.sk-estimator:hover .sk-estimator-doc-link:hover,\n",
       ".sk-estimator-doc-link:hover,\n",
       "div.sk-label-container:hover .sk-estimator-doc-link:hover,\n",
       ".sk-estimator-doc-link:hover {\n",
       "  /* unfitted */\n",
       "  background-color: var(--sklearn-color-unfitted-level-3);\n",
       "  color: var(--sklearn-color-background);\n",
       "  text-decoration: none;\n",
       "}\n",
       "\n",
       "div.sk-estimator.fitted:hover .sk-estimator-doc-link.fitted:hover,\n",
       ".sk-estimator-doc-link.fitted:hover,\n",
       "div.sk-label-container:hover .sk-estimator-doc-link.fitted:hover,\n",
       ".sk-estimator-doc-link.fitted:hover {\n",
       "  /* fitted */\n",
       "  background-color: var(--sklearn-color-fitted-level-3);\n",
       "  color: var(--sklearn-color-background);\n",
       "  text-decoration: none;\n",
       "}\n",
       "\n",
       "/* Span, style for the box shown on hovering the info icon */\n",
       ".sk-estimator-doc-link span {\n",
       "  display: none;\n",
       "  z-index: 9999;\n",
       "  position: relative;\n",
       "  font-weight: normal;\n",
       "  right: .2ex;\n",
       "  padding: .5ex;\n",
       "  margin: .5ex;\n",
       "  width: min-content;\n",
       "  min-width: 20ex;\n",
       "  max-width: 50ex;\n",
       "  color: var(--sklearn-color-text);\n",
       "  box-shadow: 2pt 2pt 4pt #999;\n",
       "  /* unfitted */\n",
       "  background: var(--sklearn-color-unfitted-level-0);\n",
       "  border: .5pt solid var(--sklearn-color-unfitted-level-3);\n",
       "}\n",
       "\n",
       ".sk-estimator-doc-link.fitted span {\n",
       "  /* fitted */\n",
       "  background: var(--sklearn-color-fitted-level-0);\n",
       "  border: var(--sklearn-color-fitted-level-3);\n",
       "}\n",
       "\n",
       ".sk-estimator-doc-link:hover span {\n",
       "  display: block;\n",
       "}\n",
       "\n",
       "/* \"?\"-specific style due to the `<a>` HTML tag */\n",
       "\n",
       "#sk-container-id-2 a.estimator_doc_link {\n",
       "  float: right;\n",
       "  font-size: 1rem;\n",
       "  line-height: 1em;\n",
       "  font-family: monospace;\n",
       "  background-color: var(--sklearn-color-background);\n",
       "  border-radius: 1rem;\n",
       "  height: 1rem;\n",
       "  width: 1rem;\n",
       "  text-decoration: none;\n",
       "  /* unfitted */\n",
       "  color: var(--sklearn-color-unfitted-level-1);\n",
       "  border: var(--sklearn-color-unfitted-level-1) 1pt solid;\n",
       "}\n",
       "\n",
       "#sk-container-id-2 a.estimator_doc_link.fitted {\n",
       "  /* fitted */\n",
       "  border: var(--sklearn-color-fitted-level-1) 1pt solid;\n",
       "  color: var(--sklearn-color-fitted-level-1);\n",
       "}\n",
       "\n",
       "/* On hover */\n",
       "#sk-container-id-2 a.estimator_doc_link:hover {\n",
       "  /* unfitted */\n",
       "  background-color: var(--sklearn-color-unfitted-level-3);\n",
       "  color: var(--sklearn-color-background);\n",
       "  text-decoration: none;\n",
       "}\n",
       "\n",
       "#sk-container-id-2 a.estimator_doc_link.fitted:hover {\n",
       "  /* fitted */\n",
       "  background-color: var(--sklearn-color-fitted-level-3);\n",
       "}\n",
       "\n",
       ".estimator-table summary {\n",
       "    padding: .5rem;\n",
       "    font-family: monospace;\n",
       "    cursor: pointer;\n",
       "}\n",
       "\n",
       ".estimator-table details[open] {\n",
       "    padding-left: 0.1rem;\n",
       "    padding-right: 0.1rem;\n",
       "    padding-bottom: 0.3rem;\n",
       "}\n",
       "\n",
       ".estimator-table .parameters-table {\n",
       "    margin-left: auto !important;\n",
       "    margin-right: auto !important;\n",
       "}\n",
       "\n",
       ".estimator-table .parameters-table tr:nth-child(odd) {\n",
       "    background-color: #fff;\n",
       "}\n",
       "\n",
       ".estimator-table .parameters-table tr:nth-child(even) {\n",
       "    background-color: #f6f6f6;\n",
       "}\n",
       "\n",
       ".estimator-table .parameters-table tr:hover {\n",
       "    background-color: #e0e0e0;\n",
       "}\n",
       "\n",
       ".estimator-table table td {\n",
       "    border: 1px solid rgba(106, 105, 104, 0.232);\n",
       "}\n",
       "\n",
       ".user-set td {\n",
       "    color:rgb(255, 94, 0);\n",
       "    text-align: left;\n",
       "}\n",
       "\n",
       ".user-set td.value pre {\n",
       "    color:rgb(255, 94, 0) !important;\n",
       "    background-color: transparent !important;\n",
       "}\n",
       "\n",
       ".default td {\n",
       "    color: black;\n",
       "    text-align: left;\n",
       "}\n",
       "\n",
       ".user-set td i,\n",
       ".default td i {\n",
       "    color: black;\n",
       "}\n",
       "\n",
       ".copy-paste-icon {\n",
       "    background-image: url(data:image/svg+xml;base64,PHN2ZyB4bWxucz0iaHR0cDovL3d3dy53My5vcmcvMjAwMC9zdmciIHZpZXdCb3g9IjAgMCA0NDggNTEyIj48IS0tIUZvbnQgQXdlc29tZSBGcmVlIDYuNy4yIGJ5IEBmb250YXdlc29tZSAtIGh0dHBzOi8vZm9udGF3ZXNvbWUuY29tIExpY2Vuc2UgLSBodHRwczovL2ZvbnRhd2Vzb21lLmNvbS9saWNlbnNlL2ZyZWUgQ29weXJpZ2h0IDIwMjUgRm9udGljb25zLCBJbmMuLS0+PHBhdGggZD0iTTIwOCAwTDMzMi4xIDBjMTIuNyAwIDI0LjkgNS4xIDMzLjkgMTQuMWw2Ny45IDY3LjljOSA5IDE0LjEgMjEuMiAxNC4xIDMzLjlMNDQ4IDMzNmMwIDI2LjUtMjEuNSA0OC00OCA0OGwtMTkyIDBjLTI2LjUgMC00OC0yMS41LTQ4LTQ4bDAtMjg4YzAtMjYuNSAyMS41LTQ4IDQ4LTQ4ek00OCAxMjhsODAgMCAwIDY0LTY0IDAgMCAyNTYgMTkyIDAgMC0zMiA2NCAwIDAgNDhjMCAyNi41LTIxLjUgNDgtNDggNDhMNDggNTEyYy0yNi41IDAtNDgtMjEuNS00OC00OEwwIDE3NmMwLTI2LjUgMjEuNS00OCA0OC00OHoiLz48L3N2Zz4=);\n",
       "    background-repeat: no-repeat;\n",
       "    background-size: 14px 14px;\n",
       "    background-position: 0;\n",
       "    display: inline-block;\n",
       "    width: 14px;\n",
       "    height: 14px;\n",
       "    cursor: pointer;\n",
       "}\n",
       "</style><body><div id=\"sk-container-id-2\" class=\"sk-top-container\"><div class=\"sk-text-repr-fallback\"><pre>GradientBoostingClassifier(criterion=&#x27;squared_error&#x27;, n_estimators=255)</pre><b>In a Jupyter environment, please rerun this cell to show the HTML representation or trust the notebook. <br />On GitHub, the HTML representation is unable to render, please try loading this page with nbviewer.org.</b></div><div class=\"sk-container\" hidden><div class=\"sk-item\"><div class=\"sk-estimator fitted sk-toggleable\"><input class=\"sk-toggleable__control sk-hidden--visually\" id=\"sk-estimator-id-2\" type=\"checkbox\" checked><label for=\"sk-estimator-id-2\" class=\"sk-toggleable__label fitted sk-toggleable__label-arrow\"><div><div>GradientBoostingClassifier</div></div><div><a class=\"sk-estimator-doc-link fitted\" rel=\"noreferrer\" target=\"_blank\" href=\"https://scikit-learn.org/1.7/modules/generated/sklearn.ensemble.GradientBoostingClassifier.html\">?<span>Documentation for GradientBoostingClassifier</span></a><span class=\"sk-estimator-doc-link fitted\">i<span>Fitted</span></span></div></label><div class=\"sk-toggleable__content fitted\" data-param-prefix=\"\">\n",
       "        <div class=\"estimator-table\">\n",
       "            <details>\n",
       "                <summary>Parameters</summary>\n",
       "                <table class=\"parameters-table\">\n",
       "                  <tbody>\n",
       "                    \n",
       "        <tr class=\"default\">\n",
       "            <td><i class=\"copy-paste-icon\"\n",
       "                 onclick=\"copyToClipboard('loss',\n",
       "                          this.parentElement.nextElementSibling)\"\n",
       "            ></i></td>\n",
       "            <td class=\"param\">loss&nbsp;</td>\n",
       "            <td class=\"value\">&#x27;log_loss&#x27;</td>\n",
       "        </tr>\n",
       "    \n",
       "\n",
       "        <tr class=\"default\">\n",
       "            <td><i class=\"copy-paste-icon\"\n",
       "                 onclick=\"copyToClipboard('learning_rate',\n",
       "                          this.parentElement.nextElementSibling)\"\n",
       "            ></i></td>\n",
       "            <td class=\"param\">learning_rate&nbsp;</td>\n",
       "            <td class=\"value\">0.1</td>\n",
       "        </tr>\n",
       "    \n",
       "\n",
       "        <tr class=\"user-set\">\n",
       "            <td><i class=\"copy-paste-icon\"\n",
       "                 onclick=\"copyToClipboard('n_estimators',\n",
       "                          this.parentElement.nextElementSibling)\"\n",
       "            ></i></td>\n",
       "            <td class=\"param\">n_estimators&nbsp;</td>\n",
       "            <td class=\"value\">255</td>\n",
       "        </tr>\n",
       "    \n",
       "\n",
       "        <tr class=\"default\">\n",
       "            <td><i class=\"copy-paste-icon\"\n",
       "                 onclick=\"copyToClipboard('subsample',\n",
       "                          this.parentElement.nextElementSibling)\"\n",
       "            ></i></td>\n",
       "            <td class=\"param\">subsample&nbsp;</td>\n",
       "            <td class=\"value\">1.0</td>\n",
       "        </tr>\n",
       "    \n",
       "\n",
       "        <tr class=\"user-set\">\n",
       "            <td><i class=\"copy-paste-icon\"\n",
       "                 onclick=\"copyToClipboard('criterion',\n",
       "                          this.parentElement.nextElementSibling)\"\n",
       "            ></i></td>\n",
       "            <td class=\"param\">criterion&nbsp;</td>\n",
       "            <td class=\"value\">&#x27;squared_error&#x27;</td>\n",
       "        </tr>\n",
       "    \n",
       "\n",
       "        <tr class=\"default\">\n",
       "            <td><i class=\"copy-paste-icon\"\n",
       "                 onclick=\"copyToClipboard('min_samples_split',\n",
       "                          this.parentElement.nextElementSibling)\"\n",
       "            ></i></td>\n",
       "            <td class=\"param\">min_samples_split&nbsp;</td>\n",
       "            <td class=\"value\">2</td>\n",
       "        </tr>\n",
       "    \n",
       "\n",
       "        <tr class=\"default\">\n",
       "            <td><i class=\"copy-paste-icon\"\n",
       "                 onclick=\"copyToClipboard('min_samples_leaf',\n",
       "                          this.parentElement.nextElementSibling)\"\n",
       "            ></i></td>\n",
       "            <td class=\"param\">min_samples_leaf&nbsp;</td>\n",
       "            <td class=\"value\">1</td>\n",
       "        </tr>\n",
       "    \n",
       "\n",
       "        <tr class=\"default\">\n",
       "            <td><i class=\"copy-paste-icon\"\n",
       "                 onclick=\"copyToClipboard('min_weight_fraction_leaf',\n",
       "                          this.parentElement.nextElementSibling)\"\n",
       "            ></i></td>\n",
       "            <td class=\"param\">min_weight_fraction_leaf&nbsp;</td>\n",
       "            <td class=\"value\">0.0</td>\n",
       "        </tr>\n",
       "    \n",
       "\n",
       "        <tr class=\"default\">\n",
       "            <td><i class=\"copy-paste-icon\"\n",
       "                 onclick=\"copyToClipboard('max_depth',\n",
       "                          this.parentElement.nextElementSibling)\"\n",
       "            ></i></td>\n",
       "            <td class=\"param\">max_depth&nbsp;</td>\n",
       "            <td class=\"value\">3</td>\n",
       "        </tr>\n",
       "    \n",
       "\n",
       "        <tr class=\"default\">\n",
       "            <td><i class=\"copy-paste-icon\"\n",
       "                 onclick=\"copyToClipboard('min_impurity_decrease',\n",
       "                          this.parentElement.nextElementSibling)\"\n",
       "            ></i></td>\n",
       "            <td class=\"param\">min_impurity_decrease&nbsp;</td>\n",
       "            <td class=\"value\">0.0</td>\n",
       "        </tr>\n",
       "    \n",
       "\n",
       "        <tr class=\"default\">\n",
       "            <td><i class=\"copy-paste-icon\"\n",
       "                 onclick=\"copyToClipboard('init',\n",
       "                          this.parentElement.nextElementSibling)\"\n",
       "            ></i></td>\n",
       "            <td class=\"param\">init&nbsp;</td>\n",
       "            <td class=\"value\">None</td>\n",
       "        </tr>\n",
       "    \n",
       "\n",
       "        <tr class=\"default\">\n",
       "            <td><i class=\"copy-paste-icon\"\n",
       "                 onclick=\"copyToClipboard('random_state',\n",
       "                          this.parentElement.nextElementSibling)\"\n",
       "            ></i></td>\n",
       "            <td class=\"param\">random_state&nbsp;</td>\n",
       "            <td class=\"value\">None</td>\n",
       "        </tr>\n",
       "    \n",
       "\n",
       "        <tr class=\"default\">\n",
       "            <td><i class=\"copy-paste-icon\"\n",
       "                 onclick=\"copyToClipboard('max_features',\n",
       "                          this.parentElement.nextElementSibling)\"\n",
       "            ></i></td>\n",
       "            <td class=\"param\">max_features&nbsp;</td>\n",
       "            <td class=\"value\">None</td>\n",
       "        </tr>\n",
       "    \n",
       "\n",
       "        <tr class=\"default\">\n",
       "            <td><i class=\"copy-paste-icon\"\n",
       "                 onclick=\"copyToClipboard('verbose',\n",
       "                          this.parentElement.nextElementSibling)\"\n",
       "            ></i></td>\n",
       "            <td class=\"param\">verbose&nbsp;</td>\n",
       "            <td class=\"value\">0</td>\n",
       "        </tr>\n",
       "    \n",
       "\n",
       "        <tr class=\"default\">\n",
       "            <td><i class=\"copy-paste-icon\"\n",
       "                 onclick=\"copyToClipboard('max_leaf_nodes',\n",
       "                          this.parentElement.nextElementSibling)\"\n",
       "            ></i></td>\n",
       "            <td class=\"param\">max_leaf_nodes&nbsp;</td>\n",
       "            <td class=\"value\">None</td>\n",
       "        </tr>\n",
       "    \n",
       "\n",
       "        <tr class=\"default\">\n",
       "            <td><i class=\"copy-paste-icon\"\n",
       "                 onclick=\"copyToClipboard('warm_start',\n",
       "                          this.parentElement.nextElementSibling)\"\n",
       "            ></i></td>\n",
       "            <td class=\"param\">warm_start&nbsp;</td>\n",
       "            <td class=\"value\">False</td>\n",
       "        </tr>\n",
       "    \n",
       "\n",
       "        <tr class=\"default\">\n",
       "            <td><i class=\"copy-paste-icon\"\n",
       "                 onclick=\"copyToClipboard('validation_fraction',\n",
       "                          this.parentElement.nextElementSibling)\"\n",
       "            ></i></td>\n",
       "            <td class=\"param\">validation_fraction&nbsp;</td>\n",
       "            <td class=\"value\">0.1</td>\n",
       "        </tr>\n",
       "    \n",
       "\n",
       "        <tr class=\"default\">\n",
       "            <td><i class=\"copy-paste-icon\"\n",
       "                 onclick=\"copyToClipboard('n_iter_no_change',\n",
       "                          this.parentElement.nextElementSibling)\"\n",
       "            ></i></td>\n",
       "            <td class=\"param\">n_iter_no_change&nbsp;</td>\n",
       "            <td class=\"value\">None</td>\n",
       "        </tr>\n",
       "    \n",
       "\n",
       "        <tr class=\"default\">\n",
       "            <td><i class=\"copy-paste-icon\"\n",
       "                 onclick=\"copyToClipboard('tol',\n",
       "                          this.parentElement.nextElementSibling)\"\n",
       "            ></i></td>\n",
       "            <td class=\"param\">tol&nbsp;</td>\n",
       "            <td class=\"value\">0.0001</td>\n",
       "        </tr>\n",
       "    \n",
       "\n",
       "        <tr class=\"default\">\n",
       "            <td><i class=\"copy-paste-icon\"\n",
       "                 onclick=\"copyToClipboard('ccp_alpha',\n",
       "                          this.parentElement.nextElementSibling)\"\n",
       "            ></i></td>\n",
       "            <td class=\"param\">ccp_alpha&nbsp;</td>\n",
       "            <td class=\"value\">0.0</td>\n",
       "        </tr>\n",
       "    \n",
       "                  </tbody>\n",
       "                </table>\n",
       "            </details>\n",
       "        </div>\n",
       "    </div></div></div></div></div><script>function copyToClipboard(text, element) {\n",
       "    // Get the parameter prefix from the closest toggleable content\n",
       "    const toggleableContent = element.closest('.sk-toggleable__content');\n",
       "    const paramPrefix = toggleableContent ? toggleableContent.dataset.paramPrefix : '';\n",
       "    const fullParamName = paramPrefix ? `${paramPrefix}${text}` : text;\n",
       "\n",
       "    const originalStyle = element.style;\n",
       "    const computedStyle = window.getComputedStyle(element);\n",
       "    const originalWidth = computedStyle.width;\n",
       "    const originalHTML = element.innerHTML.replace('Copied!', '');\n",
       "\n",
       "    navigator.clipboard.writeText(fullParamName)\n",
       "        .then(() => {\n",
       "            element.style.width = originalWidth;\n",
       "            element.style.color = 'green';\n",
       "            element.innerHTML = \"Copied!\";\n",
       "\n",
       "            setTimeout(() => {\n",
       "                element.innerHTML = originalHTML;\n",
       "                element.style = originalStyle;\n",
       "            }, 2000);\n",
       "        })\n",
       "        .catch(err => {\n",
       "            console.error('Failed to copy:', err);\n",
       "            element.style.color = 'red';\n",
       "            element.innerHTML = \"Failed!\";\n",
       "            setTimeout(() => {\n",
       "                element.innerHTML = originalHTML;\n",
       "                element.style = originalStyle;\n",
       "            }, 2000);\n",
       "        });\n",
       "    return false;\n",
       "}\n",
       "\n",
       "document.querySelectorAll('.fa-regular.fa-copy').forEach(function(element) {\n",
       "    const toggleableContent = element.closest('.sk-toggleable__content');\n",
       "    const paramPrefix = toggleableContent ? toggleableContent.dataset.paramPrefix : '';\n",
       "    const paramName = element.parentElement.nextElementSibling.textContent.trim();\n",
       "    const fullParamName = paramPrefix ? `${paramPrefix}${paramName}` : paramName;\n",
       "\n",
       "    element.setAttribute('title', fullParamName);\n",
       "});\n",
       "</script></body>"
      ],
      "text/plain": [
       "GradientBoostingClassifier(criterion='squared_error', n_estimators=255)"
      ]
     },
     "execution_count": 110,
     "metadata": {},
     "output_type": "execute_result"
    }
   ],
   "source": [
    "final_model = GradientBoostingClassifier(n_estimators=255, criterion='squared_error')\n",
    "final_model.fit(X_train, y_train)"
   ]
  },
  {
   "cell_type": "code",
   "execution_count": 111,
   "id": "be615c09-8262-4de7-aa82-b878fe260202",
   "metadata": {},
   "outputs": [],
   "source": [
    "y_result = final_model.predict(X_result)"
   ]
  },
  {
   "cell_type": "code",
   "execution_count": 113,
   "id": "f1c6c1fe-e805-4b34-ad76-22275cdf01a8",
   "metadata": {},
   "outputs": [],
   "source": [
    "df_result = pd.DataFrame(y_result, columns=['Transported'], index=X_result.index)"
   ]
  },
  {
   "cell_type": "code",
   "execution_count": 114,
   "id": "8b0999f7-bb8b-4c82-a78b-580e800351f0",
   "metadata": {},
   "outputs": [],
   "source": [
    "df_result.to_csv('Result.csv', index_label='PassengerId')"
   ]
  }
 ],
 "metadata": {
  "kernelspec": {
   "display_name": "Python 3 (ipykernel)",
   "language": "python",
   "name": "python3"
  },
  "language_info": {
   "codemirror_mode": {
    "name": "ipython",
    "version": 3
   },
   "file_extension": ".py",
   "mimetype": "text/x-python",
   "name": "python",
   "nbconvert_exporter": "python",
   "pygments_lexer": "ipython3",
   "version": "3.12.6"
  }
 },
 "nbformat": 4,
 "nbformat_minor": 5
}
