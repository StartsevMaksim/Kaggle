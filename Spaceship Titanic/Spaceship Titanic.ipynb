{
 "cells": [
  {
   "cell_type": "code",
   "execution_count": 1,
   "id": "c9cdf59c-ee04-4beb-8c0d-0ce0b0082cd9",
   "metadata": {},
   "outputs": [],
   "source": [
    "import numpy as np\n",
    "import pandas as pd\n",
    "import matplotlib.pyplot as plt\n",
    "import seaborn as sns"
   ]
  },
  {
   "cell_type": "code",
   "execution_count": 2,
   "id": "0dfb29cf-2bca-4443-8057-d10169f67682",
   "metadata": {},
   "outputs": [],
   "source": [
    "#Загрузка данных\n",
    "df_train_origin = pd.read_csv('train.csv', index_col='PassengerId')\n",
    "df_test_origin = pd.read_csv('test.csv', index_col='PassengerId')\n",
    "df_test_origin['Transported'] = np.full(df_test_origin.shape[0], np.nan)\n",
    "df_full = pd.concat([df_train_origin, df_test_origin], axis=0)"
   ]
  },
  {
   "cell_type": "code",
   "execution_count": 134,
   "id": "ef498704-74ad-4561-8f91-8869eb0f3b3f",
   "metadata": {},
   "outputs": [],
   "source": [
    "#На основании индекса PassengerID создадим 2 признака: PassengerGroup(группа пассажира) и\n",
    "#PassengerNo(номер пассажира в группе)\n",
    "pass_group_no = np.array([pairs for pairs in df_full.index.str.split('_').values])\n",
    "df_full['PassengerGroup'] = pass_group_no[:, 0]\n",
    "df_full['PassengerNo'] = pass_group_no[:, 1]\n",
    "#На основании признака Cabin создадим 3 признака: CabinDeck(палуба), CabinNo(номер каюты) и \n",
    "#CabinSide(P-левый борт, S-правый борт)\n",
    "pass_cabin_info = df_full['Cabin'].str.split('/').values\n",
    "df_full['CabinDeck'] = [np.nan if info is np.nan else info[0] for info in pass_cabin_info]\n",
    "df_full['CabinNo'] = [np.nan if info is np.nan else info[1] for info in pass_cabin_info]\n",
    "df_full['CabinSide'] = [np.nan if info is np.nan else info[2] for info in pass_cabin_info]"
   ]
  },
  {
   "cell_type": "code",
   "execution_count": 136,
   "id": "618223c8-50ef-44ce-9267-f9bb7663c620",
   "metadata": {},
   "outputs": [
    {
     "name": "stdout",
     "output_type": "stream",
     "text": [
      "<class 'pandas.core.frame.DataFrame'>\n",
      "Index: 12970 entries, 0001_01 to 9277_01\n",
      "Data columns (total 18 columns):\n",
      " #   Column          Non-Null Count  Dtype  \n",
      "---  ------          --------------  -----  \n",
      " 0   HomePlanet      12682 non-null  object \n",
      " 1   CryoSleep       12660 non-null  object \n",
      " 2   Cabin           12671 non-null  object \n",
      " 3   Destination     12696 non-null  object \n",
      " 4   Age             12700 non-null  float64\n",
      " 5   VIP             12674 non-null  object \n",
      " 6   RoomService     12707 non-null  float64\n",
      " 7   FoodCourt       12681 non-null  float64\n",
      " 8   ShoppingMall    12664 non-null  float64\n",
      " 9   Spa             12686 non-null  float64\n",
      " 10  VRDeck          12702 non-null  float64\n",
      " 11  Name            12676 non-null  object \n",
      " 12  Transported     8693 non-null   object \n",
      " 13  PassengerGroup  12970 non-null  object \n",
      " 14  PassengerNo     12970 non-null  object \n",
      " 15  CabinDeck       12671 non-null  object \n",
      " 16  CabinNo         12671 non-null  object \n",
      " 17  CabinSide       12671 non-null  object \n",
      "dtypes: float64(6), object(12)\n",
      "memory usage: 2.4+ MB\n"
     ]
    }
   ],
   "source": [
    "#Работаем с пропусками\n",
    "df_full.info()"
   ]
  }
 ],
 "metadata": {
  "kernelspec": {
   "display_name": "Python 3 (ipykernel)",
   "language": "python",
   "name": "python3"
  },
  "language_info": {
   "codemirror_mode": {
    "name": "ipython",
    "version": 3
   },
   "file_extension": ".py",
   "mimetype": "text/x-python",
   "name": "python",
   "nbconvert_exporter": "python",
   "pygments_lexer": "ipython3",
   "version": "3.12.6"
  }
 },
 "nbformat": 4,
 "nbformat_minor": 5
}
